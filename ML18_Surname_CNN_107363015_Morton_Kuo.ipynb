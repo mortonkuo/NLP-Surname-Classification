{
  "nbformat": 4,
  "nbformat_minor": 0,
  "metadata": {
    "colab": {
      "name": "ML18: Surname_CNN_107363015_Morton_Kuo",
      "provenance": [],
      "collapsed_sections": [
        "rCch572F9CQi",
        "TZss5xdo9Egj",
        "YwgE8aUl9MUf",
        "V73qNalb9UBn",
        "4QoFFc1NHOol",
        "KNYL3xuSvvp9",
        "HM9nOPRV9jxp"
      ]
    },
    "kernelspec": {
      "name": "python3",
      "display_name": "Python 3"
    }
  },
  "cells": [
    {
      "cell_type": "markdown",
      "metadata": {
        "id": "ek1V8BBdFji6"
      },
      "source": [
        "#### NCCU, Fall 2020\r\n",
        "#### **PyTorch and Machine Learning**\r\n",
        "##### 107363015 郭育丞 (Morton Kuo)"
      ]
    },
    {
      "cell_type": "markdown",
      "metadata": {
        "id": "By_flRedn1Ki"
      },
      "source": [
        "---\r\n",
        "#### **ML18: NLP - Surname Classification**\r\n",
        "##### https://medium.com/analytics-vidhya/ml18-6e9b1b66c30e\r\n",
        "##### @author: Morton Kuo (2021 / 01 / 05)\r\n"
      ]
    },
    {
      "cell_type": "markdown",
      "metadata": {
        "id": "nEZ0074lFnm1"
      },
      "source": [
        "---\r\n",
        "### PART III: Surname Classification by CNN\r\n",
        "\r\n",
        "*   The outcome here is ***the best*** CNN classifier I found.\r\n",
        "*   The code mainly comes from the book ***Rao, D. & McMahan, B. (2019). Natural Language Processing with PyTroch. California, CA: O’Reilly Media***. Based on that, I tune the model and visualize the outcomes."
      ]
    },
    {
      "cell_type": "markdown",
      "metadata": {
        "id": "5ivrkqABNaus"
      },
      "source": [
        "---\r\n",
        "### Outline\r\n",
        "*   (1) Data Source & Setting Hardware\r\n",
        "*   (2) Import\r\n",
        "*   (3) Vectorizing Data\r\n",
        "*   (4) Model: CNN\r\n",
        "*   (5) Settings\r\n",
        "*   (6) Training Routine\r\n",
        "*   (7) Model Evaluation\r\n",
        "*   (8) Inference\r\n",
        "\r\n",
        "\r\n"
      ]
    },
    {
      "cell_type": "markdown",
      "metadata": {
        "id": "wX_OENAnP_9U"
      },
      "source": [
        "---\r\n",
        "### Reference\r\n",
        "\r\n",
        "1. Géron, A. (2019). Hands-on Machine Learning with Scikit-Learn, Keras, and TensorFlow (2nd ed.). California, CA: O’Reilly Media.\r\n",
        "2. Rao, D. & McMahan, B. (2019). Natural Language Processing with PyTroch. California, CA: O’Reilly Media. \r\n",
        "3. Sarkar, D. (2019). Text Analytics with Python (2nd ed.). Karnataka, India: Apress.\r\n",
        "4. Ganegedara, T. (2018). Natural Language Processing with TensorFlow. Birmingham, UK: Packt Publishing.\r\n",
        "5. Subramanian, V. (2018). Deep Learning with PyTorch. Birmingham, UK: Packt Publishing.\r\n",
        "6. Patterson, J. & Gibson, A. (2017). Deep Learning: A Practitioner's Approach. California, CA: O’Reilly Media.\r\n",
        "7. 斎藤康毅 (2016). ゼロから作るDeep Learning ―Pythonで学ぶディープラーニングの理論と実. Japan, JP: O’Reilly Japan.\r\n",
        "8. Kuo, M. (2021). ML16: Hands-on Text Preprocessing. Retrieved from\r\n",
        "https://medium.com/analytics-vidhya/ml16-ef6105b5bb34#6ef4\r\n",
        "\r\n"
      ]
    },
    {
      "cell_type": "markdown",
      "metadata": {
        "id": "WBM5WWzcGEI9"
      },
      "source": [
        "---\r\n",
        "### (1) Data Source & Setting Hardware\r\n",
        "To proceed the code, \\\r\n",
        "1. Kindly donwnload the \"surnames_with_splits.csv\" dataset from the link below and upload it to Colab.\\\r\n",
        "https://bit.ly/3n0UHPn \\\r\n",
        "2. Then, switch the Colab hardware to GPU: \"Runtime\" -> \"Change runtime type\" -> \"Hardware accelerator\" -> Choose \"GPU\"."
      ]
    },
    {
      "cell_type": "markdown",
      "metadata": {
        "id": "rCch572F9CQi"
      },
      "source": [
        "---\r\n",
        "### (2) Import"
      ]
    },
    {
      "cell_type": "code",
      "metadata": {
        "id": "nBLSASlr86VA"
      },
      "source": [
        "from argparse import Namespace\r\n",
        "from collections import Counter\r\n",
        "import json\r\n",
        "import os\r\n",
        "import string\r\n",
        "\r\n",
        "import numpy as np\r\n",
        "import pandas as pd\r\n",
        "import torch\r\n",
        "import torch.nn as nn\r\n",
        "import torch.nn.functional as F\r\n",
        "import torch.optim as optim\r\n",
        "from torch.utils.data import Dataset, DataLoader\r\n",
        "from tqdm import tqdm_notebook"
      ],
      "execution_count": null,
      "outputs": []
    },
    {
      "cell_type": "markdown",
      "metadata": {
        "id": "TZss5xdo9Egj"
      },
      "source": [
        "---\r\n",
        "### (3) Vectorizing Data"
      ]
    },
    {
      "cell_type": "code",
      "metadata": {
        "id": "om29pgFr9E45"
      },
      "source": [
        "class Vocabulary(object):\r\n",
        "    \"\"\"Class to process text and extract vocabulary for mapping\"\"\"\r\n",
        "\r\n",
        "    def __init__(self, token_to_idx=None, add_unk=True, unk_token=\"<UNK>\"):\r\n",
        "        \"\"\"\r\n",
        "        Args:\r\n",
        "            token_to_idx (dict): a pre-existing map of tokens to indices\r\n",
        "            add_unk (bool): a flag that indicates whether to add the UNK token\r\n",
        "            unk_token (str): the UNK token to add into the Vocabulary\r\n",
        "        \"\"\"\r\n",
        "\r\n",
        "        if token_to_idx is None:\r\n",
        "            token_to_idx = {}\r\n",
        "        self._token_to_idx = token_to_idx\r\n",
        "\r\n",
        "        self._idx_to_token = {idx: token \r\n",
        "                              for token, idx in self._token_to_idx.items()}\r\n",
        "        \r\n",
        "        self._add_unk = add_unk\r\n",
        "        self._unk_token = unk_token\r\n",
        "        \r\n",
        "        self.unk_index = -1\r\n",
        "        if add_unk:\r\n",
        "            self.unk_index = self.add_token(unk_token) \r\n",
        "        \r\n",
        "        \r\n",
        "    def to_serializable(self):\r\n",
        "        \"\"\" returns a dictionary that can be serialized \"\"\"\r\n",
        "        return {'token_to_idx': self._token_to_idx, \r\n",
        "                'add_unk': self._add_unk, \r\n",
        "                'unk_token': self._unk_token}\r\n",
        "\r\n",
        "    @classmethod\r\n",
        "    def from_serializable(cls, contents):\r\n",
        "        \"\"\" instantiates the Vocabulary from a serialized dictionary \"\"\"\r\n",
        "        return cls(**contents)\r\n",
        "\r\n",
        "    def add_token(self, token):\r\n",
        "        \"\"\"Update mapping dicts based on the token.\r\n",
        "\r\n",
        "        Args:\r\n",
        "            token (str): the item to add into the Vocabulary\r\n",
        "        Returns:\r\n",
        "            index (int): the integer corresponding to the token\r\n",
        "        \"\"\"\r\n",
        "        try:\r\n",
        "            index = self._token_to_idx[token]\r\n",
        "        except KeyError:\r\n",
        "            index = len(self._token_to_idx)\r\n",
        "            self._token_to_idx[token] = index\r\n",
        "            self._idx_to_token[index] = token\r\n",
        "        return index\r\n",
        "    \r\n",
        "    def add_many(self, tokens):\r\n",
        "        \"\"\"Add a list of tokens into the Vocabulary\r\n",
        "        \r\n",
        "        Args:\r\n",
        "            tokens (list): a list of string tokens\r\n",
        "        Returns:\r\n",
        "            indices (list): a list of indices corresponding to the tokens\r\n",
        "        \"\"\"\r\n",
        "        return [self.add_token(token) for token in tokens]\r\n",
        "\r\n",
        "    def lookup_token(self, token):\r\n",
        "        \"\"\"Retrieve the index associated with the token \r\n",
        "          or the UNK index if token isn't present.\r\n",
        "        \r\n",
        "        Args:\r\n",
        "            token (str): the token to look up \r\n",
        "        Returns:\r\n",
        "            index (int): the index corresponding to the token\r\n",
        "        Notes:\r\n",
        "            `unk_index` needs to be >=0 (having been added into the Vocabulary) \r\n",
        "              for the UNK functionality \r\n",
        "        \"\"\"\r\n",
        "        if self.unk_index >= 0:\r\n",
        "            return self._token_to_idx.get(token, self.unk_index)\r\n",
        "        else:\r\n",
        "            return self._token_to_idx[token]\r\n",
        "\r\n",
        "    def lookup_index(self, index):\r\n",
        "        \"\"\"Return the token associated with the index\r\n",
        "        \r\n",
        "        Args: \r\n",
        "            index (int): the index to look up\r\n",
        "        Returns:\r\n",
        "            token (str): the token corresponding to the index\r\n",
        "        Raises:\r\n",
        "            KeyError: if the index is not in the Vocabulary\r\n",
        "        \"\"\"\r\n",
        "        if index not in self._idx_to_token:\r\n",
        "            raise KeyError(\"the index (%d) is not in the Vocabulary\" % index)\r\n",
        "        return self._idx_to_token[index]\r\n",
        "\r\n",
        "    def __str__(self):\r\n",
        "        return \"<Vocabulary(size=%d)>\" % len(self)\r\n",
        "\r\n",
        "    def __len__(self):\r\n",
        "        return len(self._token_to_idx)"
      ],
      "execution_count": null,
      "outputs": []
    },
    {
      "cell_type": "code",
      "metadata": {
        "id": "_jxn2ur09N6W"
      },
      "source": [
        "class SurnameVectorizer(object):\r\n",
        "    \"\"\" The Vectorizer which coordinates the Vocabularies and puts them to use\"\"\"\r\n",
        "    def __init__(self, surname_vocab, nationality_vocab, max_surname_length):\r\n",
        "        \"\"\"\r\n",
        "        Args:\r\n",
        "            surname_vocab (Vocabulary): maps characters to integers\r\n",
        "            nationality_vocab (Vocabulary): maps nationalities to integers\r\n",
        "            max_surname_length (int): the length of the longest surname\r\n",
        "        \"\"\"\r\n",
        "        self.surname_vocab = surname_vocab\r\n",
        "        self.nationality_vocab = nationality_vocab\r\n",
        "        self._max_surname_length = max_surname_length\r\n",
        "\r\n",
        "    def vectorize(self, surname):\r\n",
        "        \"\"\"\r\n",
        "        Args:\r\n",
        "            surname (str): the surname\r\n",
        "        Returns:\r\n",
        "            one_hot_matrix (np.ndarray): a matrix of one-hot vectors\r\n",
        "        \"\"\"\r\n",
        "\r\n",
        "        one_hot_matrix_size = (len(self.surname_vocab), self._max_surname_length)\r\n",
        "        one_hot_matrix = np.zeros(one_hot_matrix_size, dtype=np.float32)\r\n",
        "                               \r\n",
        "        for position_index, character in enumerate(surname):\r\n",
        "            character_index = self.surname_vocab.lookup_token(character)\r\n",
        "            one_hot_matrix[character_index][position_index] = 1\r\n",
        "        \r\n",
        "        return one_hot_matrix\r\n",
        "\r\n",
        "    @classmethod\r\n",
        "    def from_dataframe(cls, surname_df):\r\n",
        "        \"\"\"Instantiate the vectorizer from the dataset dataframe\r\n",
        "        \r\n",
        "        Args:\r\n",
        "            surname_df (pandas.DataFrame): the surnames dataset\r\n",
        "        Returns:\r\n",
        "            an instance of the SurnameVectorizer\r\n",
        "        \"\"\"\r\n",
        "        surname_vocab = Vocabulary(unk_token=\"@\")\r\n",
        "        nationality_vocab = Vocabulary(add_unk=False)\r\n",
        "        max_surname_length = 0\r\n",
        "\r\n",
        "        for index, row in surname_df.iterrows():\r\n",
        "            max_surname_length = max(max_surname_length, len(row.surname))\r\n",
        "            for letter in row.surname:\r\n",
        "                surname_vocab.add_token(letter)\r\n",
        "            nationality_vocab.add_token(row.nationality)\r\n",
        "\r\n",
        "        return cls(surname_vocab, nationality_vocab, max_surname_length)\r\n",
        "\r\n",
        "    @classmethod\r\n",
        "    def from_serializable(cls, contents):\r\n",
        "        surname_vocab = Vocabulary.from_serializable(contents['surname_vocab'])\r\n",
        "        nationality_vocab =  Vocabulary.from_serializable(contents['nationality_vocab'])\r\n",
        "        return cls(surname_vocab=surname_vocab, nationality_vocab=nationality_vocab, \r\n",
        "                   max_surname_length=contents['max_surname_length'])\r\n",
        "\r\n",
        "    def to_serializable(self):\r\n",
        "        return {'surname_vocab': self.surname_vocab.to_serializable(),\r\n",
        "                'nationality_vocab': self.nationality_vocab.to_serializable(), \r\n",
        "                'max_surname_length': self._max_surname_length}"
      ],
      "execution_count": null,
      "outputs": []
    },
    {
      "cell_type": "code",
      "metadata": {
        "id": "2r5FXXWV9PU8"
      },
      "source": [
        "class SurnameDataset(Dataset):\r\n",
        "    def __init__(self, surname_df, vectorizer):\r\n",
        "        \"\"\"\r\n",
        "        Args:\r\n",
        "            name_df (pandas.DataFrame): the dataset\r\n",
        "            vectorizer (SurnameVectorizer): vectorizer instatiated from dataset\r\n",
        "        \"\"\"\r\n",
        "        self.surname_df = surname_df\r\n",
        "        self._vectorizer = vectorizer\r\n",
        "        self.train_df = self.surname_df[self.surname_df.split=='train']\r\n",
        "        self.train_size = len(self.train_df)\r\n",
        "\r\n",
        "        self.val_df = self.surname_df[self.surname_df.split=='val']\r\n",
        "        self.validation_size = len(self.val_df)\r\n",
        "\r\n",
        "        self.test_df = self.surname_df[self.surname_df.split=='test']\r\n",
        "        self.test_size = len(self.test_df)\r\n",
        "\r\n",
        "        self._lookup_dict = {'train': (self.train_df, self.train_size),\r\n",
        "                             'val': (self.val_df, self.validation_size),\r\n",
        "                             'test': (self.test_df, self.test_size)}\r\n",
        "\r\n",
        "        self.set_split('train')\r\n",
        "        \r\n",
        "        # Class weights\r\n",
        "        class_counts = surname_df.nationality.value_counts().to_dict()\r\n",
        "        def sort_key(item):\r\n",
        "            return self._vectorizer.nationality_vocab.lookup_token(item[0])\r\n",
        "        sorted_counts = sorted(class_counts.items(), key=sort_key)\r\n",
        "        frequencies = [count for _, count in sorted_counts]\r\n",
        "        self.class_weights = 1.0 / torch.tensor(frequencies, dtype=torch.float32)\r\n",
        "\r\n",
        "\r\n",
        "    @classmethod\r\n",
        "    def load_dataset_and_make_vectorizer(cls, surname_csv):\r\n",
        "        \"\"\"Load dataset and make a new vectorizer from scratch\r\n",
        "        \r\n",
        "        Args:\r\n",
        "            surname_csv (str): location of the dataset\r\n",
        "        Returns:\r\n",
        "            an instance of SurnameDataset\r\n",
        "        \"\"\"\r\n",
        "        surname_df = pd.read_csv(surname_csv)\r\n",
        "        train_surname_df = surname_df[surname_df.split=='train']\r\n",
        "        return cls(surname_df, SurnameVectorizer.from_dataframe(train_surname_df))\r\n",
        "\r\n",
        "    @classmethod\r\n",
        "    def load_dataset_and_load_vectorizer(cls, surname_csv, vectorizer_filepath):\r\n",
        "        \"\"\"Load dataset and the corresponding vectorizer. \r\n",
        "        Used in the case in the vectorizer has been cached for re-use\r\n",
        "        \r\n",
        "        Args:\r\n",
        "            surname_csv (str): location of the dataset\r\n",
        "            vectorizer_filepath (str): location of the saved vectorizer\r\n",
        "        Returns:\r\n",
        "            an instance of SurnameDataset\r\n",
        "        \"\"\"\r\n",
        "        surname_df = pd.read_csv(surname_csv)\r\n",
        "        vectorizer = cls.load_vectorizer_only(vectorizer_filepath)\r\n",
        "        return cls(surname_df, vectorizer)\r\n",
        "\r\n",
        "    @staticmethod\r\n",
        "    def load_vectorizer_only(vectorizer_filepath):\r\n",
        "        \"\"\"a static method for loading the vectorizer from file\r\n",
        "        \r\n",
        "        Args:\r\n",
        "            vectorizer_filepath (str): the location of the serialized vectorizer\r\n",
        "        Returns:\r\n",
        "            an instance of SurnameDataset\r\n",
        "        \"\"\"\r\n",
        "        with open(vectorizer_filepath) as fp:\r\n",
        "            return SurnameVectorizer.from_serializable(json.load(fp))\r\n",
        "\r\n",
        "    def save_vectorizer(self, vectorizer_filepath):\r\n",
        "        \"\"\"saves the vectorizer to disk using json\r\n",
        "        \r\n",
        "        Args:\r\n",
        "            vectorizer_filepath (str): the location to save the vectorizer\r\n",
        "        \"\"\"\r\n",
        "        with open(vectorizer_filepath, \"w\") as fp:\r\n",
        "            json.dump(self._vectorizer.to_serializable(), fp)\r\n",
        "\r\n",
        "    def get_vectorizer(self):\r\n",
        "        \"\"\" returns the vectorizer \"\"\"\r\n",
        "        return self._vectorizer\r\n",
        "\r\n",
        "    def set_split(self, split=\"train\"):\r\n",
        "        \"\"\" selects the splits in the dataset using a column in the dataframe \"\"\"\r\n",
        "        self._target_split = split\r\n",
        "        self._target_df, self._target_size = self._lookup_dict[split]\r\n",
        "\r\n",
        "    def __len__(self):\r\n",
        "        return self._target_size\r\n",
        "\r\n",
        "    def __getitem__(self, index):\r\n",
        "        \"\"\"the primary entry point method for PyTorch datasets\r\n",
        "        \r\n",
        "        Args:\r\n",
        "            index (int): the index to the data point \r\n",
        "        Returns:\r\n",
        "            a dictionary holding the data point's features (x_data) and label (y_target)\r\n",
        "        \"\"\"\r\n",
        "        row = self._target_df.iloc[index]\r\n",
        "\r\n",
        "        surname_matrix = \\\r\n",
        "            self._vectorizer.vectorize(row.surname)\r\n",
        "\r\n",
        "        nationality_index = \\\r\n",
        "            self._vectorizer.nationality_vocab.lookup_token(row.nationality)\r\n",
        "\r\n",
        "        return {'x_surname': surname_matrix,\r\n",
        "                'y_nationality': nationality_index}\r\n",
        "\r\n",
        "    def get_num_batches(self, batch_size):\r\n",
        "        \"\"\"Given a batch size, return the number of batches in the dataset\r\n",
        "        \r\n",
        "        Args:\r\n",
        "            batch_size (int)\r\n",
        "        Returns:\r\n",
        "            number of batches in the dataset\r\n",
        "        \"\"\"\r\n",
        "        return len(self) // batch_size\r\n",
        "\r\n",
        "    \r\n",
        "def generate_batches(dataset, batch_size, shuffle=True,\r\n",
        "                     drop_last=True, device=\"cpu\"):\r\n",
        "    \"\"\"\r\n",
        "    A generator function which wraps the PyTorch DataLoader. It will \r\n",
        "      ensure each tensor is on the write device location.\r\n",
        "    \"\"\"\r\n",
        "    dataloader = DataLoader(dataset=dataset, batch_size=batch_size,\r\n",
        "                            shuffle=shuffle, drop_last=drop_last)\r\n",
        "\r\n",
        "    for data_dict in dataloader:\r\n",
        "        out_data_dict = {}\r\n",
        "        for name, tensor in data_dict.items():\r\n",
        "            out_data_dict[name] = data_dict[name].to(device)\r\n",
        "        yield out_data_dict"
      ],
      "execution_count": null,
      "outputs": []
    },
    {
      "cell_type": "markdown",
      "metadata": {
        "id": "YwgE8aUl9MUf"
      },
      "source": [
        "---\r\n",
        "### (4) Model: CNN"
      ]
    },
    {
      "cell_type": "code",
      "metadata": {
        "id": "eY8r3Scj9FUe"
      },
      "source": [
        "class SurnameClassifier(nn.Module):\r\n",
        "    def __init__(self, initial_num_channels, num_classes, num_channels):\r\n",
        "        \"\"\"\r\n",
        "        Args:\r\n",
        "            initial_num_channels (int): size of the incoming feature vector\r\n",
        "            num_classes (int): size of the output prediction vector\r\n",
        "            num_channels (int): constant channel size to use throughout network\r\n",
        "        \"\"\"\r\n",
        "        super(SurnameClassifier, self).__init__()\r\n",
        "        \r\n",
        "        self.convnet = nn.Sequential(\r\n",
        "            nn.Conv1d(in_channels=initial_num_channels, \r\n",
        "                      out_channels=num_channels, kernel_size=3),\r\n",
        "            nn.BatchNorm1d(num_channels),\r\n",
        "            nn.ELU(),\r\n",
        "            nn.Conv1d(in_channels=num_channels, out_channels=num_channels, \r\n",
        "                      kernel_size=3, stride=2),\r\n",
        "            nn.BatchNorm1d(num_channels),\r\n",
        "            nn.ELU(),\r\n",
        "            nn.Conv1d(in_channels=num_channels, out_channels=num_channels, \r\n",
        "                      kernel_size=3, stride=2),\r\n",
        "            nn.BatchNorm1d(num_channels),\r\n",
        "            nn.ELU(),\r\n",
        "            nn.Conv1d(in_channels=num_channels, out_channels=num_channels, \r\n",
        "                      kernel_size=3),\r\n",
        "            nn.BatchNorm1d(num_channels),\r\n",
        "            nn.ELU()\r\n",
        "        )\r\n",
        "        '''\r\n",
        "        self.fc1 = nn.Sequential(\r\n",
        "            nn.Linear(num_channels, 100),\r\n",
        "            nn.LeakyReLU())\r\n",
        "        '''\r\n",
        "        self.fc = nn.Linear(num_channels, num_classes)\r\n",
        "\r\n",
        "    def forward(self, x_surname, apply_softmax=False):\r\n",
        "        \"\"\"The forward pass of the classifier\r\n",
        "        \r\n",
        "        Args:\r\n",
        "            x_surname (torch.Tensor): an input data tensor. \r\n",
        "                x_surname.shape should be (batch, initial_num_channels, max_surname_length)\r\n",
        "            apply_softmax (bool): a flag for the softmax activation\r\n",
        "                should be false if used with the Cross Entropy losses\r\n",
        "        Returns:\r\n",
        "            the resulting tensor. tensor.shape should be (batch, num_classes)\r\n",
        "        \"\"\"\r\n",
        "        features = self.convnet(x_surname).squeeze(dim=2)\r\n",
        "        # features_2 = self.fc1(features_1)\r\n",
        "        prediction_vector = self.fc(features)\r\n",
        "\r\n",
        "        if apply_softmax:\r\n",
        "            prediction_vector = F.softmax(prediction_vector, dim=1)\r\n",
        "\r\n",
        "        return prediction_vector\r\n"
      ],
      "execution_count": null,
      "outputs": []
    },
    {
      "cell_type": "markdown",
      "metadata": {
        "id": "V73qNalb9UBn"
      },
      "source": [
        "---\r\n",
        "### (5) Settings"
      ]
    },
    {
      "cell_type": "code",
      "metadata": {
        "id": "Ei3HIOrA9FYh"
      },
      "source": [
        "def make_train_state(args):\r\n",
        "    return {'stop_early': False,\r\n",
        "            'early_stopping_step': 0,\r\n",
        "            'early_stopping_best_val': 1e8,\r\n",
        "            'learning_rate': args.learning_rate,\r\n",
        "            'epoch_index': 0,\r\n",
        "            'train_loss': [],\r\n",
        "            'train_acc': [],\r\n",
        "            'val_loss': [],\r\n",
        "            'val_acc': [],\r\n",
        "            'test_loss': -1,\r\n",
        "            'test_acc': -1,\r\n",
        "            'model_filename': args.model_state_file}"
      ],
      "execution_count": null,
      "outputs": []
    },
    {
      "cell_type": "code",
      "metadata": {
        "id": "LyfIYe2R9FcP"
      },
      "source": [
        "def update_train_state(args, model, train_state):\r\n",
        "    \"\"\"Handle the training state updates.\r\n",
        "\r\n",
        "    Components:\r\n",
        "     - Early Stopping: Prevent overfitting.\r\n",
        "     - Model Checkpoint: Model is saved if the model is better\r\n",
        "\r\n",
        "    :param args: main arguments\r\n",
        "    :param model: model to train\r\n",
        "    :param train_state: a dictionary representing the training state values\r\n",
        "    :returns:\r\n",
        "        a new train_state\r\n",
        "    \"\"\"\r\n",
        "\r\n",
        "    # Save one model at least\r\n",
        "    if train_state['epoch_index'] == 0:\r\n",
        "        torch.save(model.state_dict(), train_state['model_filename'])\r\n",
        "        train_state['stop_early'] = False\r\n",
        "\r\n",
        "    # Save model if performance improved\r\n",
        "    elif train_state['epoch_index'] >= 1:\r\n",
        "        loss_tm1, loss_t = train_state['val_loss'][-2:]\r\n",
        "\r\n",
        "        # If loss worsened\r\n",
        "        if loss_t >= train_state['early_stopping_best_val']:\r\n",
        "            # Update step\r\n",
        "            train_state['early_stopping_step'] += 1\r\n",
        "        # Loss decreased\r\n",
        "        else:\r\n",
        "            # Save the best model\r\n",
        "            if loss_t < train_state['early_stopping_best_val']:\r\n",
        "                torch.save(model.state_dict(), train_state['model_filename'])\r\n",
        "\r\n",
        "            # Reset early stopping step\r\n",
        "            train_state['early_stopping_step'] = 0\r\n",
        "\r\n",
        "        # Stop early ?\r\n",
        "        train_state['stop_early'] = \\\r\n",
        "            train_state['early_stopping_step'] >= args.early_stopping_criteria\r\n",
        "\r\n",
        "    return train_state"
      ],
      "execution_count": null,
      "outputs": []
    },
    {
      "cell_type": "code",
      "metadata": {
        "id": "ovYfQOno9Fff"
      },
      "source": [
        "def compute_accuracy(y_pred, y_target):\r\n",
        "    y_pred_indices = y_pred.max(dim=1)[1]\r\n",
        "    n_correct = torch.eq(y_pred_indices, y_target).sum().item()\r\n",
        "    return n_correct / len(y_pred_indices) * 100"
      ],
      "execution_count": null,
      "outputs": []
    },
    {
      "cell_type": "code",
      "metadata": {
        "colab": {
          "base_uri": "https://localhost:8080/"
        },
        "id": "fcj9ymj29Fit",
        "outputId": "bb08c1ea-b099-4ec0-c11d-9a9dcb6d40f8"
      },
      "source": [
        "args = Namespace(\r\n",
        "    # Data and Path information\r\n",
        "    surname_csv=\"surnames_with_splits.csv\",\r\n",
        "    vectorizer_file=\"vectorizer.json\",\r\n",
        "    model_state_file=\"model.pth\",\r\n",
        "    save_dir= \"model_storage\",\r\n",
        "    # Model hyper parameters\r\n",
        "    # hidden_dim= 100, # baseline: 100\r\n",
        "    num_channels= 280,\r\n",
        "    # Training hyper parameters\r\n",
        "    seed=1337,\r\n",
        "    learning_rate=0.001,\r\n",
        "    batch_size= 8, # baseline: 128\r\n",
        "    num_epochs= 30,\r\n",
        "    weight_decay = 5e-5,\r\n",
        "    early_stopping_criteria=5,\r\n",
        "    # dropout_p=0.3,\r\n",
        "    # Runtime options\r\n",
        "    cuda=True,\r\n",
        "    reload_from_files=False,\r\n",
        "    expand_filepaths_to_save_dir=True,\r\n",
        "    catch_keyboard_interrupt=True\r\n",
        ")\r\n",
        "\r\n",
        "\r\n",
        "if args.expand_filepaths_to_save_dir:\r\n",
        "    args.vectorizer_file = os.path.join(args.save_dir,\r\n",
        "                                        args.vectorizer_file)\r\n",
        "\r\n",
        "    args.model_state_file = os.path.join(args.save_dir,\r\n",
        "                                         args.model_state_file)\r\n",
        "    \r\n",
        "    print(\"Expanded filepaths: \")\r\n",
        "    print(\"\\t{}\".format(args.vectorizer_file))\r\n",
        "    print(\"\\t{}\".format(args.model_state_file))\r\n",
        "    \r\n",
        "# Check CUDA\r\n",
        "if not torch.cuda.is_available():\r\n",
        "    args.cuda = False\r\n",
        "\r\n",
        "args.device = torch.device(\"cuda\" if args.cuda else \"cpu\")\r\n",
        "print(\"Using CUDA: {}\".format(args.cuda))\r\n",
        "\r\n",
        "def set_seed_everywhere(seed, cuda):\r\n",
        "    np.random.seed(seed)\r\n",
        "    torch.manual_seed(seed)\r\n",
        "    if cuda:\r\n",
        "        torch.cuda.manual_seed_all(seed)\r\n",
        "        \r\n",
        "def handle_dirs(dirpath):\r\n",
        "    if not os.path.exists(dirpath):\r\n",
        "        os.makedirs(dirpath)\r\n",
        "        \r\n",
        "# Set seed for reproducibility\r\n",
        "set_seed_everywhere(args.seed, args.cuda)\r\n",
        "\r\n",
        "# handle dirs\r\n",
        "handle_dirs(args.save_dir)"
      ],
      "execution_count": null,
      "outputs": [
        {
          "output_type": "stream",
          "text": [
            "Expanded filepaths: \n",
            "\tmodel_storage/vectorizer.json\n",
            "\tmodel_storage/model.pth\n",
            "Using CUDA: True\n"
          ],
          "name": "stdout"
        }
      ]
    },
    {
      "cell_type": "markdown",
      "metadata": {
        "id": "4QoFFc1NHOol"
      },
      "source": [
        "---\r\n",
        "### (6) Training Routine"
      ]
    },
    {
      "cell_type": "code",
      "metadata": {
        "id": "T2A5AhVQ9Fns"
      },
      "source": [
        "if args.reload_from_files:\r\n",
        "    # training from a checkpoint\r\n",
        "    dataset = SurnameDataset.load_dataset_and_load_vectorizer(args.surname_csv,\r\n",
        "                                                              args.vectorizer_file)\r\n",
        "else:\r\n",
        "    # create dataset and vectorizer\r\n",
        "    dataset = SurnameDataset.load_dataset_and_make_vectorizer(args.surname_csv)\r\n",
        "    dataset.save_vectorizer(args.vectorizer_file)\r\n",
        "    \r\n",
        "vectorizer = dataset.get_vectorizer()\r\n",
        "\r\n",
        "classifier = SurnameClassifier(initial_num_channels=len(vectorizer.surname_vocab), \r\n",
        "                               num_classes=len(vectorizer.nationality_vocab),\r\n",
        "                               num_channels=args.num_channels)\r\n",
        "\r\n",
        "classifer = classifier.to(args.device)\r\n",
        "dataset.class_weights = dataset.class_weights.to(args.device)\r\n",
        "\r\n",
        "loss_func = nn.CrossEntropyLoss(weight=dataset.class_weights)\r\n",
        "optimizer = optim.Adam(classifier.parameters(), lr=args.learning_rate, weight_decay= args.weight_decay)\r\n",
        "scheduler = optim.lr_scheduler.ReduceLROnPlateau(optimizer=optimizer,\r\n",
        "                                           mode='min', factor=0.5,\r\n",
        "                                           patience=1)\r\n",
        "\r\n",
        "train_state = make_train_state(args)"
      ],
      "execution_count": null,
      "outputs": []
    },
    {
      "cell_type": "code",
      "metadata": {
        "id": "-eR7wbmj9FvQ",
        "colab": {
          "base_uri": "https://localhost:8080/"
        },
        "outputId": "091ae938-c48c-4c44-d372-7a09b29b501e"
      },
      "source": [
        "import time as t\r\n",
        "t1 = t.perf_counter()\r\n",
        "\r\n",
        "try:\r\n",
        "    for epoch_index in range(args.num_epochs):\r\n",
        "\r\n",
        "        # Record the tarining stage\r\n",
        "        if (epoch_index+1) % 10 == 0:\r\n",
        "          print(\"Epoch [{}/{}]\".format(epoch_index+1, args.num_epochs))\r\n",
        "\r\n",
        "        train_state['epoch_index'] = epoch_index\r\n",
        "\r\n",
        "        # Iterate over training dataset\r\n",
        "\r\n",
        "        # setup: batch generator, set loss and acc to 0, set train mode on\r\n",
        "\r\n",
        "        dataset.set_split('train')\r\n",
        "        batch_generator = generate_batches(dataset, \r\n",
        "                                           batch_size=args.batch_size, \r\n",
        "                                           device=args.device)\r\n",
        "        running_loss = 0.0\r\n",
        "        running_acc = 0.0\r\n",
        "\r\n",
        "        classifier.train()\r\n",
        "\r\n",
        "        for batch_index, batch_dict in enumerate(batch_generator):\r\n",
        "            # the training routine is these 5 steps:\r\n",
        "\r\n",
        "            # --------------------------------------\r\n",
        "            # step 1. zero the gradients\r\n",
        "            optimizer.zero_grad()\r\n",
        "\r\n",
        "            # step 2. compute the output\r\n",
        "            y_pred = classifier(batch_dict['x_surname'])\r\n",
        "\r\n",
        "            # step 3. compute the loss\r\n",
        "            loss = loss_func(y_pred, batch_dict['y_nationality'])\r\n",
        "            loss_t = loss.item()\r\n",
        "            running_loss += (loss_t - running_loss) / (batch_index + 1)\r\n",
        "\r\n",
        "            # step 4. use loss to produce gradients\r\n",
        "            loss.backward()\r\n",
        "\r\n",
        "            # step 5. use optimizer to take gradient step\r\n",
        "            optimizer.step()\r\n",
        "            # -----------------------------------------\r\n",
        "            # compute the accuracy\r\n",
        "            acc_t = compute_accuracy(y_pred, batch_dict['y_nationality'])\r\n",
        "            running_acc += (acc_t - running_acc) / (batch_index + 1)\r\n",
        "\r\n",
        "        train_state['train_loss'].append(running_loss)\r\n",
        "        train_state['train_acc'].append(running_acc)\r\n",
        "\r\n",
        "        # Iterate over val dataset\r\n",
        "\r\n",
        "        # setup: batch generator, set loss and acc to 0; set eval mode on\r\n",
        "        dataset.set_split('val')\r\n",
        "        batch_generator = generate_batches(dataset, \r\n",
        "                                           batch_size=args.batch_size, \r\n",
        "                                           device=args.device)\r\n",
        "        running_loss = 0.\r\n",
        "        running_acc = 0.\r\n",
        "        \r\n",
        "        classifier.eval()\r\n",
        "\r\n",
        "        for batch_index, batch_dict in enumerate(batch_generator):\r\n",
        "\r\n",
        "            # compute the output\r\n",
        "            y_pred =  classifier(batch_dict['x_surname'])\r\n",
        "\r\n",
        "            # step 3. compute the loss\r\n",
        "            loss = loss_func(y_pred, batch_dict['y_nationality'])\r\n",
        "            loss_t = loss.item()\r\n",
        "            running_loss += (loss_t - running_loss) / (batch_index + 1)\r\n",
        "\r\n",
        "            # compute the accuracy\r\n",
        "            acc_t = compute_accuracy(y_pred, batch_dict['y_nationality'])\r\n",
        "            running_acc += (acc_t - running_acc) / (batch_index + 1)\r\n",
        "\r\n",
        "        train_state['val_loss'].append(running_loss)\r\n",
        "        train_state['val_acc'].append(running_acc)\r\n",
        "\r\n",
        "        train_state = update_train_state(args=args, model=classifier,\r\n",
        "                                         train_state=train_state)\r\n",
        "\r\n",
        "        scheduler.step(train_state['val_loss'][-1])\r\n",
        "\r\n",
        "        if train_state['stop_early']:\r\n",
        "            break\r\n",
        "\r\n",
        "except KeyboardInterrupt:\r\n",
        "    print(\"Exiting loop\")\r\n",
        "\r\n",
        "\r\n",
        "print('-----')\r\n",
        "t2 = t.perf_counter()\r\n",
        "print(\"Running time = {:.2f}\".format(t2-t1))"
      ],
      "execution_count": null,
      "outputs": [
        {
          "output_type": "stream",
          "text": [
            "Epoch [10/30]\n",
            "Epoch [20/30]\n",
            "Epoch [30/30]\n",
            "-----\n",
            "Running time = 203.15\n"
          ],
          "name": "stdout"
        }
      ]
    },
    {
      "cell_type": "markdown",
      "metadata": {
        "id": "KNYL3xuSvvp9"
      },
      "source": [
        "---\r\n",
        "### (7) Model Evaluation"
      ]
    },
    {
      "cell_type": "code",
      "metadata": {
        "colab": {
          "base_uri": "https://localhost:8080/"
        },
        "id": "1GCtM_t5Dk2C",
        "outputId": "59d5988f-d346-460d-c208-485e1d40fdbe"
      },
      "source": [
        "print(len(train_state['train_acc']))\r\n",
        "print(len(train_state['val_acc']))"
      ],
      "execution_count": null,
      "outputs": [
        {
          "output_type": "stream",
          "text": [
            "30\n",
            "30\n"
          ],
          "name": "stdout"
        }
      ]
    },
    {
      "cell_type": "code",
      "metadata": {
        "id": "ZgY0nvYcD5oE"
      },
      "source": [
        "'''\r\n",
        "#### Plotting -- 1\r\n",
        "\r\n",
        "import numpy as np\r\n",
        "import matplotlib.pyplot as plt\r\n",
        "\r\n",
        "plt.figure(figsize = (30, 5.5))\r\n",
        "train_accu, val_accu = train_state['train_acc'], train_state['val_acc']\r\n",
        "\r\n",
        "# record records the (training accuracy, test accuracy) in each step\r\n",
        "plt.plot(list(range(1,101)), train_accu, label= \"Training data\") \r\n",
        "plt.plot(list(range(1,101)), val_accu, label= \"Test data\")\r\n",
        "\r\n",
        "plt.xticks(range(0, 101, 1))\r\n",
        "plt.yticks(range(0, 96, 5))\r\n",
        "plt.axis([0,101, 0, 96]) # Adjust the scope\r\n",
        "\r\n",
        "plt.xlabel('Steps', fontsize = 'xx-large') # Change font size\r\n",
        "plt.ylabel('Error rate (%)')\r\n",
        "plt.ylabel('Error rate (%)', fontsize = 'xx-large') # Change font size\r\n",
        "plt.title('CNN: Error rate (%)', fontname='DejaVu Sans', fontsize = 'xx-large') # Change font size\r\n",
        "\r\n",
        "plt.grid() # Simply add grid by default\r\n",
        "plt.legend(fontsize = 'xx-large',  loc= 'lower center')\r\n",
        "plt.show()\r\n",
        "'''"
      ],
      "execution_count": null,
      "outputs": []
    },
    {
      "cell_type": "code",
      "metadata": {
        "colab": {
          "base_uri": "https://localhost:8080/",
          "height": 579
        },
        "id": "JhK1DB6_He80",
        "outputId": "01058723-b623-474e-c6ed-0c2f302114d8"
      },
      "source": [
        "#### Plotting -- 2\r\n",
        "\r\n",
        "import numpy as np\r\n",
        "import matplotlib.pyplot as plt\r\n",
        "\r\n",
        "plt.figure(figsize = (13, 9))\r\n",
        "train_accu, val_accu = train_state['train_acc'][:30], train_state['val_acc'][:30]\r\n",
        "\r\n",
        "# record records the (training accuracy, test accuracy) in each step\r\n",
        "plt.plot(list(range(1,31)), train_accu, color='lightblue', label= \"Training data\") \r\n",
        "plt.plot(list(range(1,31)) ,  train_accu, 'D', color='royalblue')  \r\n",
        "plt.plot(list(range(1,31)), val_accu, color='darkorange', label= \"Validation data\")\r\n",
        "plt.plot(list(range(1,31)) ,  val_accu, 's', color='orangered')  \r\n",
        "\r\n",
        "plt.xticks(range(0, 31, 1))\r\n",
        "plt.yticks(range(0, 96, 5))\r\n",
        "plt.axis([0, 31, 0, 96]) # Adjust the scope\r\n",
        "\r\n",
        "plt.xlabel('Steps', fontsize = 'xx-large') # Change font size\r\n",
        "plt.ylabel('Accuracy (%)', fontsize = 'xx-large') # Change font size\r\n",
        "plt.title('CNN: Best Model', fontname='DejaVu Sans', fontsize = 'xx-large') # Change font size\r\n",
        "\r\n",
        "plt.grid() # Simply add grid by default\r\n",
        "plt.legend(fontsize = 'xx-large',  loc= 'lower center')\r\n",
        "plt.show()"
      ],
      "execution_count": null,
      "outputs": [
        {
          "output_type": "display_data",
          "data": {
            "image/png": "[encoded data removed]",
            "text/plain": [
              "<Figure size 936x648 with 1 Axes>"
            ]
          },
          "metadata": {
            "tags": [],
            "needs_background": "light"
          }
        }
      ]
    },
    {
      "cell_type": "code",
      "metadata": {
        "id": "O9gOk9cp9F0O"
      },
      "source": [
        "classifier.load_state_dict(torch.load(train_state['model_filename']))\r\n",
        "\r\n",
        "classifier = classifier.to(args.device)\r\n",
        "dataset.class_weights = dataset.class_weights.to(args.device)\r\n",
        "loss_func = nn.CrossEntropyLoss(dataset.class_weights)\r\n",
        "\r\n",
        "dataset.set_split('test')\r\n",
        "batch_generator = generate_batches(dataset, \r\n",
        "                                   batch_size=args.batch_size, \r\n",
        "                                   device=args.device)\r\n",
        "running_loss = 0.\r\n",
        "running_acc = 0.\r\n",
        "\r\n",
        "classifier.eval()\r\n",
        "\r\n",
        "for batch_index, batch_dict in enumerate(batch_generator):\r\n",
        "    # compute the output\r\n",
        "    y_pred =  classifier(batch_dict['x_surname'])\r\n",
        "    \r\n",
        "    # compute the loss\r\n",
        "    loss = loss_func(y_pred, batch_dict['y_nationality'])\r\n",
        "    loss_t = loss.item()\r\n",
        "    running_loss += (loss_t - running_loss) / (batch_index + 1)\r\n",
        "\r\n",
        "    # compute the accuracy\r\n",
        "    acc_t = compute_accuracy(y_pred, batch_dict['y_nationality'])\r\n",
        "    running_acc += (acc_t - running_acc) / (batch_index + 1)\r\n",
        "\r\n",
        "train_state['test_loss'] = running_loss\r\n",
        "train_state['test_acc'] = running_acc"
      ],
      "execution_count": null,
      "outputs": []
    },
    {
      "cell_type": "code",
      "metadata": {
        "colab": {
          "base_uri": "https://localhost:8080/"
        },
        "id": "2OEpYB05FNHU",
        "outputId": "3d6fd48a-f725-4b20-9918-ea601566fea9"
      },
      "source": [
        "print(\"Final Training   Accuracy: {:7.4f}\".format(train_state['train_acc'][24]))\r\n",
        "print(\"Final Validation Accuracy: {:7.4f}\".format(train_state['val_acc'][24]))\r\n",
        "print(\"Final Test       Accuracy: {:7.4f}\".format(train_state['test_acc']))"
      ],
      "execution_count": null,
      "outputs": [
        {
          "output_type": "stream",
          "text": [
            "Final Training   Accuracy: 90.6641\n",
            "Final Validation Accuracy: 76.4634\n",
            "Final Test       Accuracy: 71.1957\n"
          ],
          "name": "stdout"
        }
      ]
    },
    {
      "cell_type": "code",
      "metadata": {
        "colab": {
          "base_uri": "https://localhost:8080/"
        },
        "id": "40SXz0fQwDzp",
        "outputId": "fad64ab4-80a7-4a43-dde7-e3e89cc021e3"
      },
      "source": [
        "print(\"Test Loss: {}\".format(train_state['test_loss']))\r\n",
        "print(\"Test Accuracy: {}\".format(train_state['test_acc']))"
      ],
      "execution_count": null,
      "outputs": [
        {
          "output_type": "stream",
          "text": [
            "Test Loss: 1.8299996256828308\n",
            "Test Accuracy: 55.79427083333333\n"
          ],
          "name": "stdout"
        }
      ]
    },
    {
      "cell_type": "markdown",
      "metadata": {
        "id": "HM9nOPRV9jxp"
      },
      "source": [
        "---\r\n",
        "### (8) Inference"
      ]
    },
    {
      "cell_type": "code",
      "metadata": {
        "id": "kIXXjwWp9F5B"
      },
      "source": [
        "def predict_nationality(surname, classifier, vectorizer):\r\n",
        "    \"\"\"Predict the nationality from a new surname\r\n",
        "    \r\n",
        "    Args:\r\n",
        "        surname (str): the surname to classifier\r\n",
        "        classifier (SurnameClassifer): an instance of the classifier\r\n",
        "        vectorizer (SurnameVectorizer): the corresponding vectorizer\r\n",
        "    Returns:\r\n",
        "        a dictionary with the most likely nationality and its probability\r\n",
        "    \"\"\"\r\n",
        "    vectorized_surname = vectorizer.vectorize(surname)\r\n",
        "    vectorized_surname = torch.tensor(vectorized_surname).unsqueeze(0)\r\n",
        "    result = classifier(vectorized_surname, apply_softmax=True)\r\n",
        "\r\n",
        "    probability_values, indices = result.max(dim=1)\r\n",
        "    index = indices.item()\r\n",
        "\r\n",
        "    predicted_nationality = vectorizer.nationality_vocab.lookup_index(index)\r\n",
        "    probability_value = probability_values.item()\r\n",
        "\r\n",
        "    return {'nationality': predicted_nationality, 'probability': probability_value}"
      ],
      "execution_count": null,
      "outputs": []
    },
    {
      "cell_type": "code",
      "metadata": {
        "id": "wRaUgbdT9F7m"
      },
      "source": [
        "new_surname = input(\"Enter a surname to classify: \")\r\n",
        "classifier = classifier.cpu()\r\n",
        "prediction = predict_nationality(new_surname, classifier, vectorizer)\r\n",
        "print(\"{} -> {} (p={:0.2f})\".format(new_surname,\r\n",
        "                                    prediction['nationality'],\r\n",
        "                                    prediction['probability']))"
      ],
      "execution_count": null,
      "outputs": []
    },
    {
      "cell_type": "code",
      "metadata": {
        "id": "NFN3eO5V9GDr"
      },
      "source": [
        "def predict_topk_nationality(surname, classifier, vectorizer, k=5):\r\n",
        "    \"\"\"Predict the top K nationalities from a new surname\r\n",
        "    \r\n",
        "    Args:\r\n",
        "        surname (str): the surname to classifier\r\n",
        "        classifier (SurnameClassifer): an instance of the classifier\r\n",
        "        vectorizer (SurnameVectorizer): the corresponding vectorizer\r\n",
        "        k (int): the number of top nationalities to return\r\n",
        "    Returns:\r\n",
        "        list of dictionaries, each dictionary is a nationality and a probability\r\n",
        "    \"\"\"\r\n",
        "    \r\n",
        "    vectorized_surname = vectorizer.vectorize(surname)\r\n",
        "    vectorized_surname = torch.tensor(vectorized_surname).unsqueeze(dim=0)\r\n",
        "    prediction_vector = classifier(vectorized_surname, apply_softmax=True)\r\n",
        "    probability_values, indices = torch.topk(prediction_vector, k=k)\r\n",
        "    \r\n",
        "    # returned size is 1,k\r\n",
        "    probability_values = probability_values[0].detach().numpy()\r\n",
        "    indices = indices[0].detach().numpy()\r\n",
        "    \r\n",
        "    results = []\r\n",
        "    for kth_index in range(k):\r\n",
        "        nationality = vectorizer.nationality_vocab.lookup_index(indices[kth_index])\r\n",
        "        probability_value = probability_values[kth_index]\r\n",
        "        results.append({'nationality': nationality, \r\n",
        "                        'probability': probability_value})\r\n",
        "    return results\r\n",
        "\r\n",
        "new_surname = input(\"Enter a surname to classify: \")\r\n",
        "\r\n",
        "k = int(input(\"How many of the top predictions to see? \"))\r\n",
        "if k > len(vectorizer.nationality_vocab):\r\n",
        "    print(\"Sorry! That's more than the # of nationalities we have.. defaulting you to max size :)\")\r\n",
        "    k = len(vectorizer.nationality_vocab)\r\n",
        "    \r\n",
        "predictions = predict_topk_nationality(new_surname, classifier, vectorizer, k=k)\r\n",
        "\r\n",
        "print(\"Top {} predictions:\".format(k))\r\n",
        "print(\"===================\")\r\n",
        "for prediction in predictions:\r\n",
        "    print(\"{} -> {} (p={:0.2f})\".format(new_surname,\r\n",
        "                                        prediction['nationality'],\r\n",
        "                                        prediction['probability']))"
      ],
      "execution_count": null,
      "outputs": []
    }
  ]
}