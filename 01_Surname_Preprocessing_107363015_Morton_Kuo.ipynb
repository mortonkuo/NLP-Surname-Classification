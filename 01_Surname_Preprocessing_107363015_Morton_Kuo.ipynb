{
  "nbformat": 4,
  "nbformat_minor": 0,
  "metadata": {
    "colab": {
      "name": "ML18: Surname_Preprocessing_107363015_Morton_Kuo",
      "provenance": [],
      "collapsed_sections": [
        "YVfyHDn_n8Kt",
        "a40AswrToyZZ",
        "2kaeVGkOo9a1",
        "BREwcrjtpKcA"
      ]
    },
    "kernelspec": {
      "name": "python3",
      "display_name": "Python 3"
    }
  },
  "cells": [
    {
      "cell_type": "markdown",
      "metadata": {
        "id": "WZQPgPL-i03v"
      },
      "source": [
        "#### NCCU, Fall 2020\r\n",
        "#### **PyTorch and Machine Learning**\r\n",
        "##### 107363015 郭育丞 (Morton Kuo)"
      ]
    },
    {
      "cell_type": "markdown",
      "metadata": {
        "id": "WNybOjOEm9ti"
      },
      "source": [
        "---\r\n",
        "#### **ML18: NLP - Surname Classification**\r\n",
        "##### https://medium.com/analytics-vidhya/ml18-6e9b1b66c30e\r\n",
        "##### @author: Morton Kuo (2021 / 01 / 05)\r\n"
      ]
    },
    {
      "cell_type": "markdown",
      "metadata": {
        "id": "Pw0dcxQFi5dJ"
      },
      "source": [
        "---\r\n",
        "### PART I: Introduction & Pre-processing\r\n",
        "\r\n",
        "*   The outcome here is ***the best*** RNN classifier I found.\r\n",
        "*   The code mainly comes from the book ***Rao, D. & McMahan, B. (2019). Natural Language Processing with PyTroch. California, CA: O’Reilly Media***. Based on that, I tune the model and visualize the outcomes.\r\n"
      ]
    },
    {
      "cell_type": "markdown",
      "metadata": {
        "id": "vg_Kua_qjJaQ"
      },
      "source": [
        "---\r\n",
        "### Outline\r\n",
        "*   (1) Data Source\r\n",
        "*   (2) Import & Settings\r\n",
        "*   (3) Input & Inspecting\r\n",
        "*   (4) Splitting the Surname Dataset\r\n",
        "*   (5) Saving the New Surname Dataset\r\n",
        "\r\n",
        "\r\n"
      ]
    },
    {
      "cell_type": "markdown",
      "metadata": {
        "id": "LlAuaGGbjGns"
      },
      "source": [
        "---\r\n",
        "### Reference\r\n",
        "\r\n",
        "1. Rao, D. & McMahan, B. (2019). Natural Language Processing with PyTroch. California, CA: O’Reilly Media. \r\n",
        "\r\n",
        "\r\n"
      ]
    },
    {
      "cell_type": "markdown",
      "metadata": {
        "id": "iIM5TgI43lBg"
      },
      "source": [
        "---\r\n",
        "### (1) Data Source\r\n",
        "To proceed the code, \\\r\n",
        "1. Kindly donwnload the \"surnames.csv\" dataset from the link below and upload it to Colab.\\\r\n",
        "https://bit.ly/3bbMEwX "
      ]
    },
    {
      "cell_type": "markdown",
      "metadata": {
        "id": "YVfyHDn_n8Kt"
      },
      "source": [
        "---\r\n",
        "### (2) Import & Settings"
      ]
    },
    {
      "cell_type": "code",
      "metadata": {
        "id": "yUJp45LkitEw"
      },
      "source": [
        "import collections\r\n",
        "import numpy as np\r\n",
        "import pandas as pd\r\n",
        "import re\r\n",
        "\r\n",
        "from argparse import Namespace"
      ],
      "execution_count": null,
      "outputs": []
    },
    {
      "cell_type": "code",
      "metadata": {
        "id": "SCCTSeh7n-dG"
      },
      "source": [
        "args = Namespace(\r\n",
        "    raw_dataset_csv=\"surnames.csv\",\r\n",
        "    train_proportion=0.7,\r\n",
        "    val_proportion=0.15,\r\n",
        "    test_proportion=0.15,\r\n",
        "    output_munged_csv=\"surnames_with_splits.csv\",\r\n",
        "    seed=1337\r\n",
        ")"
      ],
      "execution_count": null,
      "outputs": []
    },
    {
      "cell_type": "markdown",
      "metadata": {
        "id": "a40AswrToyZZ"
      },
      "source": [
        "---\r\n",
        "### (3) Input & Inspecting"
      ]
    },
    {
      "cell_type": "code",
      "metadata": {
        "id": "YiP_P7oRn-nw"
      },
      "source": [
        "# Read raw data\r\n",
        "surnames = pd.read_csv(args.raw_dataset_csv, header=0)"
      ],
      "execution_count": null,
      "outputs": []
    },
    {
      "cell_type": "code",
      "metadata": {
        "colab": {
          "base_uri": "https://localhost:8080/",
          "height": 204
        },
        "id": "HS7xj5vEn-ro",
        "outputId": "ae2b1d42-9fd5-4fc7-9274-d7d8a40da735"
      },
      "source": [
        "surnames.head()"
      ],
      "execution_count": null,
      "outputs": [
        {
          "output_type": "execute_result",
          "data": {
            "text/html": [
              "<div>\n",
              "<style scoped>\n",
              "    .dataframe tbody tr th:only-of-type {\n",
              "        vertical-align: middle;\n",
              "    }\n",
              "\n",
              "    .dataframe tbody tr th {\n",
              "        vertical-align: top;\n",
              "    }\n",
              "\n",
              "    .dataframe thead th {\n",
              "        text-align: right;\n",
              "    }\n",
              "</style>\n",
              "<table border=\"1\" class=\"dataframe\">\n",
              "  <thead>\n",
              "    <tr style=\"text-align: right;\">\n",
              "      <th></th>\n",
              "      <th>surname</th>\n",
              "      <th>nationality</th>\n",
              "    </tr>\n",
              "  </thead>\n",
              "  <tbody>\n",
              "    <tr>\n",
              "      <th>0</th>\n",
              "      <td>Woodford</td>\n",
              "      <td>English</td>\n",
              "    </tr>\n",
              "    <tr>\n",
              "      <th>1</th>\n",
              "      <td>Coté</td>\n",
              "      <td>French</td>\n",
              "    </tr>\n",
              "    <tr>\n",
              "      <th>2</th>\n",
              "      <td>Kore</td>\n",
              "      <td>English</td>\n",
              "    </tr>\n",
              "    <tr>\n",
              "      <th>3</th>\n",
              "      <td>Koury</td>\n",
              "      <td>Arabic</td>\n",
              "    </tr>\n",
              "    <tr>\n",
              "      <th>4</th>\n",
              "      <td>Lebzak</td>\n",
              "      <td>Russian</td>\n",
              "    </tr>\n",
              "  </tbody>\n",
              "</table>\n",
              "</div>"
            ],
            "text/plain": [
              "    surname nationality\n",
              "0  Woodford     English\n",
              "1      Coté      French\n",
              "2      Kore     English\n",
              "3     Koury      Arabic\n",
              "4    Lebzak     Russian"
            ]
          },
          "metadata": {
            "tags": []
          },
          "execution_count": 5
        }
      ]
    },
    {
      "cell_type": "code",
      "metadata": {
        "colab": {
          "base_uri": "https://localhost:8080/"
        },
        "id": "AX_qygCZn-wV",
        "outputId": "3f133cd7-5c87-47d3-9eaa-aedeced16d55"
      },
      "source": [
        "# Unique classes\r\n",
        "set(surnames.nationality)"
      ],
      "execution_count": null,
      "outputs": [
        {
          "output_type": "execute_result",
          "data": {
            "text/plain": [
              "{'Arabic',\n",
              " 'Chinese',\n",
              " 'Czech',\n",
              " 'Dutch',\n",
              " 'English',\n",
              " 'French',\n",
              " 'German',\n",
              " 'Greek',\n",
              " 'Irish',\n",
              " 'Italian',\n",
              " 'Japanese',\n",
              " 'Korean',\n",
              " 'Polish',\n",
              " 'Portuguese',\n",
              " 'Russian',\n",
              " 'Scottish',\n",
              " 'Spanish',\n",
              " 'Vietnamese'}"
            ]
          },
          "metadata": {
            "tags": []
          },
          "execution_count": 6
        }
      ]
    },
    {
      "cell_type": "markdown",
      "metadata": {
        "id": "2kaeVGkOo9a1"
      },
      "source": [
        "---\r\n",
        "### (4) Splitting the Surname Dataset"
      ]
    },
    {
      "cell_type": "code",
      "metadata": {
        "id": "SYu7r_uWn-0C"
      },
      "source": [
        "# Splitting train by nationality\r\n",
        "# Create dict\r\n",
        "by_nationality = collections.defaultdict(list)\r\n",
        "for _, row in surnames.iterrows():\r\n",
        "    by_nationality[row.nationality].append(row.to_dict())"
      ],
      "execution_count": null,
      "outputs": []
    },
    {
      "cell_type": "code",
      "metadata": {
        "id": "tuka5tAKoFWK"
      },
      "source": [
        "# Create split data\r\n",
        "final_list = []\r\n",
        "np.random.seed(args.seed)\r\n",
        "for _, item_list in sorted(by_nationality.items()):\r\n",
        "    np.random.shuffle(item_list)\r\n",
        "    n = len(item_list)\r\n",
        "    n_train = int(args.train_proportion*n)\r\n",
        "    n_val = int(args.val_proportion*n)\r\n",
        "    n_test = int(args.test_proportion*n)\r\n",
        "    \r\n",
        "    # Give data point a split attribute\r\n",
        "    for item in item_list[:n_train]:\r\n",
        "        item['split'] = 'train'\r\n",
        "    for item in item_list[n_train:n_train+n_val]:\r\n",
        "        item['split'] = 'val'\r\n",
        "    for item in item_list[n_train+n_val:]:\r\n",
        "        item['split'] = 'test'  \r\n",
        "    \r\n",
        "    # Add to final list\r\n",
        "    final_list.extend(item_list)"
      ],
      "execution_count": null,
      "outputs": []
    },
    {
      "cell_type": "code",
      "metadata": {
        "id": "OrRDcdu1oFa2"
      },
      "source": [
        "# Write split data to file\r\n",
        "final_surnames = pd.DataFrame(final_list)"
      ],
      "execution_count": null,
      "outputs": []
    },
    {
      "cell_type": "code",
      "metadata": {
        "colab": {
          "base_uri": "https://localhost:8080/"
        },
        "id": "ZsPoxjpWoFgU",
        "outputId": "9c1dfae3-e4e2-4f57-fe8a-320a38d16f78"
      },
      "source": [
        "final_surnames.split.value_counts()"
      ],
      "execution_count": null,
      "outputs": [
        {
          "output_type": "execute_result",
          "data": {
            "text/plain": [
              "train    7680\n",
              "test     1660\n",
              "val      1640\n",
              "Name: split, dtype: int64"
            ]
          },
          "metadata": {
            "tags": []
          },
          "execution_count": 10
        }
      ]
    },
    {
      "cell_type": "code",
      "metadata": {
        "colab": {
          "base_uri": "https://localhost:8080/",
          "height": 204
        },
        "id": "S4oBtQaSoFkX",
        "outputId": "fd377899-6dc4-4d93-9612-17abfd1b5890"
      },
      "source": [
        "final_surnames.head()"
      ],
      "execution_count": null,
      "outputs": [
        {
          "output_type": "execute_result",
          "data": {
            "text/html": [
              "<div>\n",
              "<style scoped>\n",
              "    .dataframe tbody tr th:only-of-type {\n",
              "        vertical-align: middle;\n",
              "    }\n",
              "\n",
              "    .dataframe tbody tr th {\n",
              "        vertical-align: top;\n",
              "    }\n",
              "\n",
              "    .dataframe thead th {\n",
              "        text-align: right;\n",
              "    }\n",
              "</style>\n",
              "<table border=\"1\" class=\"dataframe\">\n",
              "  <thead>\n",
              "    <tr style=\"text-align: right;\">\n",
              "      <th></th>\n",
              "      <th>surname</th>\n",
              "      <th>nationality</th>\n",
              "      <th>split</th>\n",
              "    </tr>\n",
              "  </thead>\n",
              "  <tbody>\n",
              "    <tr>\n",
              "      <th>0</th>\n",
              "      <td>Totah</td>\n",
              "      <td>Arabic</td>\n",
              "      <td>train</td>\n",
              "    </tr>\n",
              "    <tr>\n",
              "      <th>1</th>\n",
              "      <td>Abboud</td>\n",
              "      <td>Arabic</td>\n",
              "      <td>train</td>\n",
              "    </tr>\n",
              "    <tr>\n",
              "      <th>2</th>\n",
              "      <td>Fakhoury</td>\n",
              "      <td>Arabic</td>\n",
              "      <td>train</td>\n",
              "    </tr>\n",
              "    <tr>\n",
              "      <th>3</th>\n",
              "      <td>Srour</td>\n",
              "      <td>Arabic</td>\n",
              "      <td>train</td>\n",
              "    </tr>\n",
              "    <tr>\n",
              "      <th>4</th>\n",
              "      <td>Sayegh</td>\n",
              "      <td>Arabic</td>\n",
              "      <td>train</td>\n",
              "    </tr>\n",
              "  </tbody>\n",
              "</table>\n",
              "</div>"
            ],
            "text/plain": [
              "    surname nationality  split\n",
              "0     Totah      Arabic  train\n",
              "1    Abboud      Arabic  train\n",
              "2  Fakhoury      Arabic  train\n",
              "3     Srour      Arabic  train\n",
              "4    Sayegh      Arabic  train"
            ]
          },
          "metadata": {
            "tags": []
          },
          "execution_count": 11
        }
      ]
    },
    {
      "cell_type": "markdown",
      "metadata": {
        "id": "BREwcrjtpKcA"
      },
      "source": [
        "---\r\n",
        "### (5) Saving the New Surname Dataset"
      ]
    },
    {
      "cell_type": "code",
      "metadata": {
        "id": "zBUmUvdgoKWX"
      },
      "source": [
        "# Write munged data to CSV\r\n",
        "final_surnames.to_csv(args.output_munged_csv, index=False)"
      ],
      "execution_count": null,
      "outputs": []
    }
  ]
}