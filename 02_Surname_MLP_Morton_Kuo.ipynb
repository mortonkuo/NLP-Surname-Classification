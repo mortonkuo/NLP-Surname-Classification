{
  "nbformat": 4,
  "nbformat_minor": 0,
  "metadata": {
    "colab": {
      "name": "ML18: Surname_MLP_107363015_Morton_Kuo",
      "provenance": [],
      "collapsed_sections": [
        "daU07gHS0ciw",
        "njl8tmBpy0nd",
        "cNx-CELLzAwH",
        "T7GYxIFFzFfg",
        "uJuR3kxTzFH2",
        "-TA1O3fpzJTd",
        "zqkcZoovzNBr",
        "94bW-ux5zUNm",
        "f5ZNN2ATzXKt",
        "yAf8yvBsKcaT",
        "JgsiblvU6pA4"
      ]
    },
    "kernelspec": {
      "display_name": "Python 3",
      "name": "python3"
    },
    "accelerator": "GPU"
  },
  "cells": [
    {
      "cell_type": "markdown",
      "metadata": {
        "id": "nxCAiIQ7H51s"
      },
      "source": [
        "#### NCCU, Fall 2020\r\n",
        "#### **PyTorch and Machine Learning**\r\n",
        "##### 107363015 郭育丞 (Morton Kuo)"
      ]
    },
    {
      "cell_type": "markdown",
      "metadata": {
        "id": "Ngix6nfxn2qX"
      },
      "source": [
        "---\r\n",
        "#### **ML18: NLP - Surname Classification**\r\n",
        "##### https://medium.com/analytics-vidhya/ml18-6e9b1b66c30e\r\n",
        "##### @author: Morton Kuo (2021 / 01 / 05)\r\n"
      ]
    },
    {
      "cell_type": "markdown",
      "metadata": {
        "id": "0FUni-0RIJNw"
      },
      "source": [
        "---\r\n",
        "### PART II: Surname Classification by MLP\r\n",
        "\r\n",
        "*   The outcome here is ***the best*** MLP classifier I found.\r\n",
        "*   The code mainly comes from the book ***Rao, D. & McMahan, B. (2019). Natural Language Processing with PyTroch. California, CA: O’Reilly Media***. Based on that, I tune the model and visualize the outcomes.\r\n",
        "\r\n"
      ]
    },
    {
      "cell_type": "markdown",
      "metadata": {
        "id": "SLxlPs9nMvc0"
      },
      "source": [
        "---\r\n",
        "### Outline\r\n",
        "*   (1) Data Source & Setting Hardware\r\n",
        "*   (2) Import\r\n",
        "*   (3) Data Vectorization Classes: Vocabulary, Vectorizer, Dataset\r\n",
        "*   (4) Model: MLP\r\n",
        "*   (5) Training Routine\r\n",
        "*   (6) Model Evaluation\r\n",
        "*   (7) Inference\r\n",
        "\r\n",
        "\r\n"
      ]
    },
    {
      "cell_type": "markdown",
      "metadata": {
        "id": "u3Qr44IgQdBB"
      },
      "source": [
        "---\r\n",
        "### Reference\r\n",
        "\r\n",
        "1. Géron, A. (2019). Hands-on Machine Learning with Scikit-Learn, Keras, and TensorFlow (2nd ed.). California, CA: O’Reilly Media.\r\n",
        "2. Rao, D. & McMahan, B. (2019). Natural Language Processing with PyTroch. California, CA: O’Reilly Media. \r\n",
        "3. Sarkar, D. (2019). Text Analytics with Python (2nd ed.). Karnataka, India: Apress.\r\n",
        "4. Ganegedara, T. (2018). Natural Language Processing with TensorFlow. Birmingham, UK: Packt Publishing.\r\n",
        "5. Subramanian, V. (2018). Deep Learning with PyTorch. Birmingham, UK: Packt Publishing.\r\n",
        "6. Patterson, J. & Gibson, A. (2017). Deep Learning: A Practitioner's Approach. California, CA: O’Reilly Media.\r\n",
        "7. 斎藤康毅 (2016). ゼロから作るDeep Learning ―Pythonで学ぶディープラーニングの理論と実. Japan, JP: O’Reilly Japan.\r\n",
        "8. Kuo, M. (2021). ML16: Hands-on Text Preprocessing. Retrieved from\r\n",
        "https://medium.com/analytics-vidhya/ml16-ef6105b5bb34#6ef4\r\n",
        "\r\n"
      ]
    },
    {
      "cell_type": "markdown",
      "metadata": {
        "id": "tjqUcJWCGTAm"
      },
      "source": [
        "---\r\n",
        "### (1) Data Source & Setting Hardware\r\n",
        "To proceed the code, \\\r\n",
        "1. Kindly donwnload the \"surnames_with_splits.csv\" dataset from the link below and upload it to Colab.\\\r\n",
        "https://bit.ly/3n0UHPn \\\r\n",
        "2. Then, switch the Colab hardware to GPU: \"Runtime\" -> \"Change runtime type\" -> \"Hardware accelerator\" -> Choose \"GPU\"."
      ]
    },
    {
      "cell_type": "markdown",
      "metadata": {
        "id": "daU07gHS0ciw"
      },
      "source": [
        "---\r\n",
        "### (2) Import"
      ]
    },
    {
      "cell_type": "code",
      "metadata": {
        "id": "lNn0K9haylv_"
      },
      "source": [
        "from argparse import Namespace\r\n",
        "from collections import Counter\r\n",
        "import json\r\n",
        "import os\r\n",
        "import string\r\n",
        "\r\n",
        "import numpy as np\r\n",
        "import pandas as pd\r\n",
        "\r\n",
        "import torch\r\n",
        "import torch.nn as nn\r\n",
        "import torch.nn.functional as F\r\n",
        "import torch.optim as optim\r\n",
        "from torch.utils.data import Dataset, DataLoader\r\n",
        "from tqdm import tqdm_notebook"
      ],
      "execution_count": null,
      "outputs": []
    },
    {
      "cell_type": "markdown",
      "metadata": {
        "id": "njl8tmBpy0nd"
      },
      "source": [
        "---\r\n",
        "### (3) Data Vectorization Classes: Vocabulary, Vectorizer, Dataset"
      ]
    },
    {
      "cell_type": "markdown",
      "metadata": {
        "id": "17mZTMf2I9Z_"
      },
      "source": [
        "#### 1. Vocabulary"
      ]
    },
    {
      "cell_type": "code",
      "metadata": {
        "id": "hxBr99-JywZv"
      },
      "source": [
        "class Vocabulary(object):\r\n",
        "    \"\"\"Class to process text and extract vocabulary for mapping\"\"\"\r\n",
        "\r\n",
        "    def __init__(self, token_to_idx=None, add_unk=True, unk_token=\"<UNK>\"):\r\n",
        "        \"\"\"\r\n",
        "        Args:\r\n",
        "            token_to_idx (dict): a pre-existing map of tokens to indices\r\n",
        "            add_unk (bool): a flag that indicates whether to add the UNK token\r\n",
        "            unk_token (str): the UNK token to add into the Vocabulary\r\n",
        "        \"\"\"\r\n",
        "\r\n",
        "        if token_to_idx is None:\r\n",
        "            token_to_idx = {}\r\n",
        "        self._token_to_idx = token_to_idx\r\n",
        "\r\n",
        "        self._idx_to_token = {idx: token \r\n",
        "                              for token, idx in self._token_to_idx.items()}\r\n",
        "        \r\n",
        "        self._add_unk = add_unk\r\n",
        "        self._unk_token = unk_token\r\n",
        "        \r\n",
        "        self.unk_index = -1\r\n",
        "        if add_unk:\r\n",
        "            self.unk_index = self.add_token(unk_token) \r\n",
        "        \r\n",
        "        \r\n",
        "    def to_serializable(self):\r\n",
        "        \"\"\" returns a dictionary that can be serialized \"\"\"\r\n",
        "        return {'token_to_idx': self._token_to_idx, \r\n",
        "                'add_unk': self._add_unk, \r\n",
        "                'unk_token': self._unk_token}\r\n",
        "\r\n",
        "    @classmethod\r\n",
        "    def from_serializable(cls, contents):\r\n",
        "        \"\"\" instantiates the Vocabulary from a serialized dictionary \"\"\"\r\n",
        "        return cls(**contents)\r\n",
        "\r\n",
        "    def add_token(self, token):\r\n",
        "        \"\"\"Update mapping dicts based on the token.\r\n",
        "\r\n",
        "        Args:\r\n",
        "            token (str): the item to add into the Vocabulary\r\n",
        "        Returns:\r\n",
        "            index (int): the integer corresponding to the token\r\n",
        "        \"\"\"\r\n",
        "        try:\r\n",
        "            index = self._token_to_idx[token]\r\n",
        "        except KeyError:\r\n",
        "            index = len(self._token_to_idx)\r\n",
        "            self._token_to_idx[token] = index\r\n",
        "            self._idx_to_token[index] = token\r\n",
        "        return index\r\n",
        "    \r\n",
        "    def add_many(self, tokens):\r\n",
        "        \"\"\"Add a list of tokens into the Vocabulary\r\n",
        "        \r\n",
        "        Args:\r\n",
        "            tokens (list): a list of string tokens\r\n",
        "        Returns:\r\n",
        "            indices (list): a list of indices corresponding to the tokens\r\n",
        "        \"\"\"\r\n",
        "        return [self.add_token(token) for token in tokens]\r\n",
        "\r\n",
        "    def lookup_token(self, token):\r\n",
        "        \"\"\"Retrieve the index associated with the token \r\n",
        "          or the UNK index if token isn't present.\r\n",
        "        \r\n",
        "        Args:\r\n",
        "            token (str): the token to look up \r\n",
        "        Returns:\r\n",
        "            index (int): the index corresponding to the token\r\n",
        "        Notes:\r\n",
        "            `unk_index` needs to be >=0 (having been added into the Vocabulary) \r\n",
        "              for the UNK functionality \r\n",
        "        \"\"\"\r\n",
        "        if self.unk_index >= 0:\r\n",
        "            return self._token_to_idx.get(token, self.unk_index)\r\n",
        "        else:\r\n",
        "            return self._token_to_idx[token]\r\n",
        "\r\n",
        "    def lookup_index(self, index):\r\n",
        "        \"\"\"Return the token associated with the index\r\n",
        "        \r\n",
        "        Args: \r\n",
        "            index (int): the index to look up\r\n",
        "        Returns:\r\n",
        "            token (str): the token corresponding to the index\r\n",
        "        Raises:\r\n",
        "            KeyError: if the index is not in the Vocabulary\r\n",
        "        \"\"\"\r\n",
        "        if index not in self._idx_to_token:\r\n",
        "            raise KeyError(\"the index (%d) is not in the Vocabulary\" % index)\r\n",
        "        return self._idx_to_token[index]\r\n",
        "\r\n",
        "    def __str__(self):\r\n",
        "        return \"<Vocabulary(size=%d)>\" % len(self)\r\n",
        "\r\n",
        "    def __len__(self):\r\n",
        "        return len(self._token_to_idx)"
      ],
      "execution_count": null,
      "outputs": []
    },
    {
      "cell_type": "markdown",
      "metadata": {
        "id": "R7fbDtlHJF-u"
      },
      "source": [
        "#### 2. Vectorizer"
      ]
    },
    {
      "cell_type": "code",
      "metadata": {
        "id": "-Q1toyDAywfV"
      },
      "source": [
        "class SurnameVectorizer(object):\r\n",
        "    \"\"\" The Vectorizer which coordinates the Vocabularies and puts them to use\"\"\"\r\n",
        "    def __init__(self, surname_vocab, nationality_vocab):\r\n",
        "        \"\"\"\r\n",
        "        Args:\r\n",
        "            surname_vocab (Vocabulary): maps characters to integers\r\n",
        "            nationality_vocab (Vocabulary): maps nationalities to integers\r\n",
        "        \"\"\"\r\n",
        "        self.surname_vocab = surname_vocab\r\n",
        "        self.nationality_vocab = nationality_vocab\r\n",
        "\r\n",
        "    def vectorize(self, surname):\r\n",
        "        \"\"\"\r\n",
        "        Args:\r\n",
        "            surname (str): the surname\r\n",
        "\r\n",
        "        Returns:\r\n",
        "            one_hot (np.ndarray): a collapsed one-hot encoding \r\n",
        "        \"\"\"\r\n",
        "        vocab = self.surname_vocab\r\n",
        "        one_hot = np.zeros(len(vocab), dtype=np.float32)\r\n",
        "        for token in surname:\r\n",
        "            one_hot[vocab.lookup_token(token)] = 1\r\n",
        "\r\n",
        "        return one_hot\r\n",
        "\r\n",
        "    @classmethod\r\n",
        "    def from_dataframe(cls, surname_df):\r\n",
        "        \"\"\"Instantiate the vectorizer from the dataset dataframe\r\n",
        "        \r\n",
        "        Args:\r\n",
        "            surname_df (pandas.DataFrame): the surnames dataset\r\n",
        "        Returns:\r\n",
        "            an instance of the SurnameVectorizer\r\n",
        "        \"\"\"\r\n",
        "        surname_vocab = Vocabulary(unk_token=\"@\")\r\n",
        "        nationality_vocab = Vocabulary(add_unk=False)\r\n",
        "\r\n",
        "        for index, row in surname_df.iterrows():\r\n",
        "            for letter in row.surname:\r\n",
        "                surname_vocab.add_token(letter)\r\n",
        "            nationality_vocab.add_token(row.nationality)\r\n",
        "\r\n",
        "        return cls(surname_vocab, nationality_vocab)\r\n",
        "\r\n",
        "    @classmethod\r\n",
        "    def from_serializable(cls, contents):\r\n",
        "        surname_vocab = Vocabulary.from_serializable(contents['surname_vocab'])\r\n",
        "        nationality_vocab =  Vocabulary.from_serializable(contents['nationality_vocab'])\r\n",
        "        return cls(surname_vocab=surname_vocab, nationality_vocab=nationality_vocab)\r\n",
        "\r\n",
        "    def to_serializable(self):\r\n",
        "        return {'surname_vocab': self.surname_vocab.to_serializable(),\r\n",
        "                'nationality_vocab': self.nationality_vocab.to_serializable()}"
      ],
      "execution_count": null,
      "outputs": []
    },
    {
      "cell_type": "markdown",
      "metadata": {
        "id": "LIUMW6eEJJxs"
      },
      "source": [
        "#### 3. Dataset"
      ]
    },
    {
      "cell_type": "code",
      "metadata": {
        "id": "BiNuFO5lywjf"
      },
      "source": [
        "class SurnameDataset(Dataset):\r\n",
        "    def __init__(self, surname_df, vectorizer):\r\n",
        "        \"\"\"\r\n",
        "        Args:\r\n",
        "            surname_df (pandas.DataFrame): the dataset\r\n",
        "            vectorizer (SurnameVectorizer): vectorizer instatiated from dataset\r\n",
        "        \"\"\"\r\n",
        "        self.surname_df = surname_df\r\n",
        "        self._vectorizer = vectorizer\r\n",
        "\r\n",
        "        self.train_df = self.surname_df[self.surname_df.split=='train']\r\n",
        "        self.train_size = len(self.train_df)\r\n",
        "\r\n",
        "        self.val_df = self.surname_df[self.surname_df.split=='val']\r\n",
        "        self.validation_size = len(self.val_df)\r\n",
        "\r\n",
        "        self.test_df = self.surname_df[self.surname_df.split=='test']\r\n",
        "        self.test_size = len(self.test_df)\r\n",
        "\r\n",
        "        self._lookup_dict = {'train': (self.train_df, self.train_size),\r\n",
        "                             'val': (self.val_df, self.validation_size),\r\n",
        "                             'test': (self.test_df, self.test_size)}\r\n",
        "\r\n",
        "        self.set_split('train')\r\n",
        "        \r\n",
        "        # Class weights\r\n",
        "        class_counts = surname_df.nationality.value_counts().to_dict()\r\n",
        "        def sort_key(item):\r\n",
        "            return self._vectorizer.nationality_vocab.lookup_token(item[0])\r\n",
        "        sorted_counts = sorted(class_counts.items(), key=sort_key)\r\n",
        "        frequencies = [count for _, count in sorted_counts]\r\n",
        "        self.class_weights = 1.0 / torch.tensor(frequencies, dtype=torch.float32)\r\n",
        "\r\n",
        "    @classmethod\r\n",
        "    def load_dataset_and_make_vectorizer(cls, surname_csv):\r\n",
        "        \"\"\"Load dataset and make a new vectorizer from scratch\r\n",
        "        \r\n",
        "        Args:\r\n",
        "            surname_csv (str): location of the dataset\r\n",
        "        Returns:\r\n",
        "            an instance of SurnameDataset\r\n",
        "        \"\"\"\r\n",
        "        surname_df = pd.read_csv(surname_csv)\r\n",
        "        train_surname_df = surname_df[surname_df.split=='train']\r\n",
        "        return cls(surname_df, SurnameVectorizer.from_dataframe(train_surname_df))\r\n",
        "\r\n",
        "    @classmethod\r\n",
        "    def load_dataset_and_load_vectorizer(cls, surname_csv, vectorizer_filepath):\r\n",
        "        \"\"\"Load dataset and the corresponding vectorizer. \r\n",
        "        Used in the case in the vectorizer has been cached for re-use\r\n",
        "        \r\n",
        "        Args:\r\n",
        "            surname_csv (str): location of the dataset\r\n",
        "            vectorizer_filepath (str): location of the saved vectorizer\r\n",
        "        Returns:\r\n",
        "            an instance of SurnameDataset\r\n",
        "        \"\"\"\r\n",
        "        surname_df = pd.read_csv(surname_csv)\r\n",
        "        vectorizer = cls.load_vectorizer_only(vectorizer_filepath)\r\n",
        "        return cls(surname_df, vectorizer)\r\n",
        "\r\n",
        "    @staticmethod\r\n",
        "    def load_vectorizer_only(vectorizer_filepath):\r\n",
        "        \"\"\"a static method for loading the vectorizer from file\r\n",
        "        \r\n",
        "        Args:\r\n",
        "            vectorizer_filepath (str): the location of the serialized vectorizer\r\n",
        "        Returns:\r\n",
        "            an instance of SurnameVectorizer\r\n",
        "        \"\"\"\r\n",
        "        with open(vectorizer_filepath) as fp:\r\n",
        "            return SurnameVectorizer.from_serializable(json.load(fp))\r\n",
        "\r\n",
        "    def save_vectorizer(self, vectorizer_filepath):\r\n",
        "        \"\"\"saves the vectorizer to disk using json\r\n",
        "        \r\n",
        "        Args:\r\n",
        "            vectorizer_filepath (str): the location to save the vectorizer\r\n",
        "        \"\"\"\r\n",
        "        with open(vectorizer_filepath, \"w\") as fp:\r\n",
        "            json.dump(self._vectorizer.to_serializable(), fp)\r\n",
        "\r\n",
        "    def get_vectorizer(self):\r\n",
        "        \"\"\" returns the vectorizer \"\"\"\r\n",
        "        return self._vectorizer\r\n",
        "\r\n",
        "    def set_split(self, split=\"train\"):\r\n",
        "        \"\"\" selects the splits in the dataset using a column in the dataframe \"\"\"\r\n",
        "        self._target_split = split\r\n",
        "        self._target_df, self._target_size = self._lookup_dict[split]\r\n",
        "\r\n",
        "    def __len__(self):\r\n",
        "        return self._target_size\r\n",
        "\r\n",
        "    def __getitem__(self, index):\r\n",
        "        \"\"\"the primary entry point method for PyTorch datasets\r\n",
        "        \r\n",
        "        Args:\r\n",
        "            index (int): the index to the data point \r\n",
        "        Returns:\r\n",
        "            a dictionary holding the data point's:\r\n",
        "                features (x_surname)\r\n",
        "                label (y_nationality)\r\n",
        "        \"\"\"\r\n",
        "        row = self._target_df.iloc[index]\r\n",
        "\r\n",
        "        surname_vector = \\\r\n",
        "            self._vectorizer.vectorize(row.surname)\r\n",
        "\r\n",
        "        nationality_index = \\\r\n",
        "            self._vectorizer.nationality_vocab.lookup_token(row.nationality)\r\n",
        "\r\n",
        "        return {'x_surname': surname_vector,\r\n",
        "                'y_nationality': nationality_index}\r\n",
        "\r\n",
        "    def get_num_batches(self, batch_size):\r\n",
        "        \"\"\"Given a batch size, return the number of batches in the dataset\r\n",
        "        \r\n",
        "        Args:\r\n",
        "            batch_size (int)\r\n",
        "        Returns:\r\n",
        "            number of batches in the dataset\r\n",
        "        \"\"\"\r\n",
        "        return len(self) // batch_size\r\n",
        "\r\n",
        "    \r\n",
        "def generate_batches(dataset, batch_size, shuffle=True,\r\n",
        "                     drop_last=True, device=\"cpu\"): \r\n",
        "    \"\"\"\r\n",
        "    A generator function which wraps the PyTorch DataLoader. It will \r\n",
        "      ensure each tensor is on the write device location.\r\n",
        "    \"\"\"\r\n",
        "    dataloader = DataLoader(dataset=dataset, batch_size=batch_size,\r\n",
        "                            shuffle=shuffle, drop_last=drop_last)\r\n",
        "\r\n",
        "    for data_dict in dataloader:\r\n",
        "        out_data_dict = {}\r\n",
        "        for name, tensor in data_dict.items():\r\n",
        "            out_data_dict[name] = data_dict[name].to(device)\r\n",
        "        yield out_data_dict"
      ],
      "execution_count": null,
      "outputs": []
    },
    {
      "cell_type": "markdown",
      "metadata": {
        "id": "cNx-CELLzAwH"
      },
      "source": [
        "---\r\n",
        "### (4) Model: MLP"
      ]
    },
    {
      "cell_type": "code",
      "metadata": {
        "id": "nlEVlP39ywn0"
      },
      "source": [
        "dropout_p = 0.05\r\n",
        "\r\n",
        "class SurnameClassifier(nn.Module):\r\n",
        "    \"\"\" A 2-layer Multilayer Perceptron for classifying surnames \"\"\"\r\n",
        "    def __init__(self, input_dim, hidden_dim, output_dim):\r\n",
        "        \"\"\"\r\n",
        "        Args:\r\n",
        "            input_dim (int): the size of the input vectors\r\n",
        "            hidden_dim (int): the output size of the first Linear layer\r\n",
        "            output_dim (int): the output size of the second Linear layer\r\n",
        "        \"\"\"\r\n",
        "        super(SurnameClassifier, self).__init__()\r\n",
        "\r\n",
        "        self.fc1 = nn.Sequential(\r\n",
        "            nn.Linear(input_dim, hidden_dim),\r\n",
        "            # nn.BatchNorm1d(hidden_dim),\r\n",
        "            # nn.PReLU(),\r\n",
        "            nn.LeakyReLU(),\r\n",
        "          \r\n",
        "            # nn.Dropout(p= dropout_p),\r\n",
        "            \r\n",
        "            # nn.Linear(hidden_dim_1, hidden_dim_2),\r\n",
        "            # n.ReLU(),\r\n",
        "            # nn.BatchNorm1d(hidden_dim_2),\r\n",
        "            # nn.Dropout(p= dropout_p),)            \r\n",
        "        )\r\n",
        "        self.fc2 = nn.Sequential(nn.Linear(hidden_dim, output_dim))\r\n",
        "\r\n",
        "\r\n",
        "    def forward(self, x_in, apply_softmax=False):\r\n",
        "        \"\"\"The forward pass of the classifier\r\n",
        "        \r\n",
        "        Args:\r\n",
        "            x_in (torch.Tensor): an input data tensor. \r\n",
        "                x_in.shape should be (batch, input_dim)\r\n",
        "            apply_softmax (bool): a flag for the softmax activation\r\n",
        "                should be false if used with the Cross Entropy losses\r\n",
        "        Returns:\r\n",
        "            the resulting tensor. tensor.shape should be (batch, output_dim)\r\n",
        "        \"\"\"\r\n",
        "        '''\r\n",
        "        intermediate_vector = F.relu(self.fc1(x_in))\r\n",
        "        prediction_vector = self.fc2(intermediate_vector)\r\n",
        "        '''\r\n",
        "        x = self.fc1(x_in)\r\n",
        "        x = self.fc2(x)\r\n",
        "        # x = F.log_softmax(x, dim= 1)\r\n",
        "\r\n",
        "        if apply_softmax:\r\n",
        "            prediction_vector = F.softmax(prediction_vector, dim=1)\r\n",
        "\r\n",
        "        return x # prediction_vector"
      ],
      "execution_count": null,
      "outputs": []
    },
    {
      "cell_type": "code",
      "metadata": {
        "colab": {
          "base_uri": "https://localhost:8080/"
        },
        "id": "Y7x79z-nxlII",
        "outputId": "c927cd51-2fb2-4460-84c0-510f970008c6"
      },
      "source": [
        "model = SurnameClassifier(10,100,2)\r\n",
        "print(model)"
      ],
      "execution_count": null,
      "outputs": [
        {
          "output_type": "stream",
          "text": [
            "SurnameClassifier(\n",
            "  (fc1): Sequential(\n",
            "    (0): Linear(in_features=10, out_features=100, bias=True)\n",
            "    (1): LeakyReLU(negative_slope=0.01)\n",
            "  )\n",
            "  (fc2): Sequential(\n",
            "    (0): Linear(in_features=100, out_features=2, bias=True)\n",
            "  )\n",
            ")\n"
          ],
          "name": "stdout"
        }
      ]
    },
    {
      "cell_type": "markdown",
      "metadata": {
        "id": "T7GYxIFFzFfg"
      },
      "source": [
        "---\r\n",
        "### (5) Training Routine"
      ]
    },
    {
      "cell_type": "markdown",
      "metadata": {
        "id": "uJuR3kxTzFH2"
      },
      "source": [
        "#### 1. Helper functions"
      ]
    },
    {
      "cell_type": "code",
      "metadata": {
        "id": "pxHHU535ywri"
      },
      "source": [
        "def make_train_state(args):\r\n",
        "    return {'stop_early': False,\r\n",
        "            'early_stopping_step': 0,\r\n",
        "            'early_stopping_best_val': 1e8,\r\n",
        "            'learning_rate': args.learning_rate,\r\n",
        "            'epoch_index': 0,\r\n",
        "            'train_loss': [],\r\n",
        "            'train_acc': [],\r\n",
        "            'val_loss': [],\r\n",
        "            'val_acc': [],\r\n",
        "            'test_loss': -1,\r\n",
        "            'test_acc': -1,\r\n",
        "            'model_filename': args.model_state_file}\r\n",
        "\r\n",
        "def update_train_state(args, model, train_state):\r\n",
        "    \"\"\"Handle the training state updates.\r\n",
        "\r\n",
        "    Components:\r\n",
        "     - Early Stopping: Prevent overfitting.\r\n",
        "     - Model Checkpoint: Model is saved if the model is better\r\n",
        "\r\n",
        "    :param args: main arguments\r\n",
        "    :param model: model to train\r\n",
        "    :param train_state: a dictionary representing the training state values\r\n",
        "    :returns:\r\n",
        "        a new train_state\r\n",
        "    \"\"\"\r\n",
        "\r\n",
        "    # Save one model at least\r\n",
        "    if train_state['epoch_index'] == 0:\r\n",
        "        torch.save(model.state_dict(), train_state['model_filename'])\r\n",
        "        train_state['stop_early'] = False\r\n",
        "\r\n",
        "    # Save model if performance improved\r\n",
        "    elif train_state['epoch_index'] >= 1:\r\n",
        "        loss_tm1, loss_t = train_state['val_loss'][-2:]\r\n",
        "\r\n",
        "        # If loss worsened\r\n",
        "        if loss_t >= train_state['early_stopping_best_val']:\r\n",
        "            # Update step\r\n",
        "            train_state['early_stopping_step'] += 1\r\n",
        "        # Loss decreased\r\n",
        "        else:\r\n",
        "            # Save the best model\r\n",
        "            if loss_t < train_state['early_stopping_best_val']:\r\n",
        "                torch.save(model.state_dict(), train_state['model_filename'])\r\n",
        "\r\n",
        "            # Reset early stopping step\r\n",
        "            train_state['early_stopping_step'] = 0\r\n",
        "\r\n",
        "        # Stop early ?\r\n",
        "        train_state['stop_early'] = \\\r\n",
        "            train_state['early_stopping_step'] >= args.early_stopping_criteria\r\n",
        "\r\n",
        "    return train_state\r\n",
        "\r\n",
        "def compute_accuracy(y_pred, y_target):\r\n",
        "    _, y_pred_indices = y_pred.max(dim=1)\r\n",
        "    n_correct = torch.eq(y_pred_indices, y_target).sum().item()\r\n",
        "    return n_correct / len(y_pred_indices) * 100"
      ],
      "execution_count": null,
      "outputs": []
    },
    {
      "cell_type": "markdown",
      "metadata": {
        "id": "-TA1O3fpzJTd"
      },
      "source": [
        "#### 2. general utilities"
      ]
    },
    {
      "cell_type": "code",
      "metadata": {
        "id": "Mitj0cErywvh"
      },
      "source": [
        "def set_seed_everywhere(seed, cuda):\r\n",
        "    np.random.seed(seed)\r\n",
        "    torch.manual_seed(seed)\r\n",
        "    if cuda:\r\n",
        "        torch.cuda.manual_seed_all(seed)\r\n",
        "\r\n",
        "def handle_dirs(dirpath):\r\n",
        "    if not os.path.exists(dirpath):\r\n",
        "        os.makedirs(dirpath)"
      ],
      "execution_count": null,
      "outputs": []
    },
    {
      "cell_type": "markdown",
      "metadata": {
        "id": "zqkcZoovzNBr"
      },
      "source": [
        "#### 3. Settings and some prep work"
      ]
    },
    {
      "cell_type": "code",
      "metadata": {
        "colab": {
          "base_uri": "https://localhost:8080/"
        },
        "id": "bUyi7a4OywzR",
        "outputId": "360b25c6-1e78-4e76-87f5-d78bc05f7ac6"
      },
      "source": [
        "args = Namespace(\r\n",
        "    # Data and path information\r\n",
        "    surname_csv=\"surnames_with_splits.csv\",\r\n",
        "    vectorizer_file=\"vectorizer.json\",\r\n",
        "    model_state_file=\"model.pth\",\r\n",
        "    save_dir= \"model_storage\",\r\n",
        "\r\n",
        "    # Model hyper parameters\r\n",
        "    hidden_dim = 2000, # 300\r\n",
        "    #hidden_dim_2 = 10,\r\n",
        "\r\n",
        "    # Training  hyper parameters\r\n",
        "    seed=1337,\r\n",
        "    num_epochs= 25, # 100\r\n",
        "    early_stopping_criteria= 5,\r\n",
        "    learning_rate= 0.001, \r\n",
        "    batch_size= 2, # 64\r\n",
        "    weight_decay = 0.0000,\r\n",
        "    # optim.Adam(classifier.parameters(), lr=args.learning_rate, weight_decay= args.weight_decay)\r\n",
        "    # dropout_p = 0.05,\r\n",
        "\r\n",
        "    # Runtime options\r\n",
        "    cuda=True,\r\n",
        "    reload_from_files=False,\r\n",
        "    expand_filepaths_to_save_dir=True,\r\n",
        ")\r\n",
        "\r\n",
        "if args.expand_filepaths_to_save_dir:\r\n",
        "    args.vectorizer_file = os.path.join(args.save_dir,\r\n",
        "                                        args.vectorizer_file)\r\n",
        "\r\n",
        "    args.model_state_file = os.path.join(args.save_dir,\r\n",
        "                                         args.model_state_file)\r\n",
        "    \r\n",
        "    print(\"Expanded filepaths: \")\r\n",
        "    print(\"\\t{}\".format(args.vectorizer_file))\r\n",
        "    print(\"\\t{}\".format(args.model_state_file))\r\n",
        "    \r\n",
        "# Check CUDA\r\n",
        "\r\n",
        "if not torch.cuda.is_available():\r\n",
        "    args.cuda = False\r\n",
        "\r\n",
        "args.device = torch.device(\"cuda\" if args.cuda else \"cpu\")\r\n",
        "    \r\n",
        "print(\"Using CUDA: {}\".format(args.cuda))\r\n",
        "\r\n",
        "\r\n",
        "# Set seed for reproducibility\r\n",
        "set_seed_everywhere(args.seed, args.cuda)\r\n",
        "\r\n",
        "# handle dirs\r\n",
        "handle_dirs(args.save_dir)"
      ],
      "execution_count": null,
      "outputs": [
        {
          "output_type": "stream",
          "text": [
            "Expanded filepaths: \n",
            "\tmodel_storage/vectorizer.json\n",
            "\tmodel_storage/model.pth\n",
            "Using CUDA: True\n"
          ],
          "name": "stdout"
        }
      ]
    },
    {
      "cell_type": "markdown",
      "metadata": {
        "id": "94bW-ux5zUNm"
      },
      "source": [
        "#### 4. Initializations"
      ]
    },
    {
      "cell_type": "code",
      "metadata": {
        "colab": {
          "base_uri": "https://localhost:8080/"
        },
        "id": "4xcrk7WZyw2x",
        "outputId": "22d26b03-2d94-4985-ea4b-4cacf14319c2"
      },
      "source": [
        "if args.reload_from_files:\r\n",
        "    # training from a checkpoint\r\n",
        "    print(\"Reloading!\")\r\n",
        "    dataset = SurnameDataset.load_dataset_and_load_vectorizer(args.surname_csv,\r\n",
        "                                                              args.vectorizer_file)\r\n",
        "else:\r\n",
        "    # create dataset and vectorizer\r\n",
        "    print(\"Creating fresh!\")\r\n",
        "    dataset = SurnameDataset.load_dataset_and_make_vectorizer(args.surname_csv)\r\n",
        "    dataset.save_vectorizer(args.vectorizer_file)\r\n",
        "    \r\n",
        "vectorizer = dataset.get_vectorizer()\r\n",
        "classifier = SurnameClassifier(input_dim = len(vectorizer.surname_vocab), \r\n",
        "                               hidden_dim = args.hidden_dim,\r\n",
        "                               output_dim= len(vectorizer.nationality_vocab))\r\n"
      ],
      "execution_count": null,
      "outputs": [
        {
          "output_type": "stream",
          "text": [
            "Creating fresh!\n"
          ],
          "name": "stdout"
        }
      ]
    },
    {
      "cell_type": "markdown",
      "metadata": {
        "id": "f5ZNN2ATzXKt"
      },
      "source": [
        "#### 5. Training loop"
      ]
    },
    {
      "cell_type": "code",
      "metadata": {
        "colab": {
          "base_uri": "https://localhost:8080/"
        },
        "id": "SIyZQN0SzXxN",
        "outputId": "306af54d-f7f3-434c-ba97-282f772be930"
      },
      "source": [
        "classifier = classifier.to(args.device)\r\n",
        "dataset.class_weights = dataset.class_weights.to(args.device)\r\n",
        "\r\n",
        "    \r\n",
        "loss_func = nn.CrossEntropyLoss(dataset.class_weights)\r\n",
        "optimizer = optim.Adam(classifier.parameters(), lr=args.learning_rate, weight_decay= args.weight_decay)\r\n",
        "scheduler = optim.lr_scheduler.ReduceLROnPlateau(optimizer=optimizer,\r\n",
        "                                                 mode='min', factor=0.5,\r\n",
        "                                                 patience=1)\r\n",
        "\r\n",
        "train_state = make_train_state(args)\r\n",
        "\r\n",
        "import time as t\r\n",
        "t1 = t.perf_counter()\r\n",
        "\r\n",
        "try:\r\n",
        "    for epoch_index in range(args.num_epochs):\r\n",
        "\r\n",
        "        # Record the tarining stage\r\n",
        "        if (epoch_index+1) % 10 == 0:\r\n",
        "          print(\"Epoch [{}/{}]\".format(epoch_index+1, args.num_epochs))\r\n",
        "        \r\n",
        "        train_state['epoch_index'] = epoch_index\r\n",
        "        \r\n",
        "        # Iterate over training dataset\r\n",
        "\r\n",
        "        # setup: batch generator, set loss and acc to 0, set train mode on\r\n",
        "\r\n",
        "        dataset.set_split('train')\r\n",
        "        batch_generator = generate_batches(dataset, \r\n",
        "                                           batch_size=args.batch_size, \r\n",
        "                                           device=args.device)\r\n",
        "        running_loss = 0.0\r\n",
        "        running_acc = 0.0\r\n",
        "        classifier.train()\r\n",
        "\r\n",
        "        for batch_index, batch_dict in enumerate(batch_generator):\r\n",
        "            # the training routine is these 5 steps:\r\n",
        "\r\n",
        "            # --------------------------------------\r\n",
        "            # step 1. zero the gradients\r\n",
        "            optimizer.zero_grad()\r\n",
        "\r\n",
        "            # step 2. compute the output\r\n",
        "            y_pred = classifier(batch_dict['x_surname'])\r\n",
        "\r\n",
        "            # step 3. compute the loss\r\n",
        "            loss = loss_func(y_pred, batch_dict['y_nationality'])\r\n",
        "            loss_t = loss.item()\r\n",
        "            running_loss += (loss_t - running_loss) / (batch_index + 1)\r\n",
        "\r\n",
        "            # step 4. use loss to produce gradients\r\n",
        "            loss.backward()\r\n",
        "\r\n",
        "            # step 5. use optimizer to take gradient step\r\n",
        "            optimizer.step()\r\n",
        "            # -----------------------------------------\r\n",
        "            # compute the accuracy\r\n",
        "            acc_t = compute_accuracy(y_pred, batch_dict['y_nationality'])\r\n",
        "            running_acc += (acc_t - running_acc) / (batch_index + 1)\r\n",
        "\r\n",
        "        train_state['train_loss'].append(running_loss)\r\n",
        "        train_state['train_acc'].append(running_acc)\r\n",
        "\r\n",
        "\r\n",
        "        # Iterate over val dataset\r\n",
        "\r\n",
        "        # setup: batch generator, set loss and acc to 0; set eval mode on\r\n",
        "        dataset.set_split('val')\r\n",
        "        batch_generator = generate_batches(dataset, \r\n",
        "                                           batch_size=args.batch_size, \r\n",
        "                                           device=args.device)\r\n",
        "        running_loss = 0.\r\n",
        "        running_acc = 0.\r\n",
        "        classifier.eval()\r\n",
        "\r\n",
        "        for batch_index, batch_dict in enumerate(batch_generator):\r\n",
        "\r\n",
        "            # compute the output\r\n",
        "            y_pred =  classifier(batch_dict['x_surname'])\r\n",
        "\r\n",
        "            # step 3. compute the loss\r\n",
        "            loss = loss_func(y_pred, batch_dict['y_nationality'])\r\n",
        "            loss_t = loss.to(\"cpu\").item()\r\n",
        "            running_loss += (loss_t - running_loss) / (batch_index + 1)\r\n",
        "\r\n",
        "            # compute the accuracy\r\n",
        "            acc_t = compute_accuracy(y_pred, batch_dict['y_nationality'])\r\n",
        "            running_acc += (acc_t - running_acc) / (batch_index + 1)\r\n",
        "\r\n",
        "        train_state['val_loss'].append(running_loss)\r\n",
        "        train_state['val_acc'].append(running_acc)\r\n",
        "\r\n",
        "        train_state = update_train_state(args=args, model=classifier,\r\n",
        "                                         train_state=train_state)\r\n",
        "\r\n",
        "        scheduler.step(train_state['val_loss'][-1])\r\n",
        "\r\n",
        "        if train_state['stop_early']:\r\n",
        "            break\r\n",
        "\r\n",
        "        \r\n",
        "\r\n",
        "except KeyboardInterrupt:\r\n",
        "    print(\"Exiting loop\")\r\n",
        "\r\n",
        "print('-----')\r\n",
        "t2 = t.perf_counter()\r\n",
        "print(\"Running time = {:.2f}\".format(t2-t1))"
      ],
      "execution_count": null,
      "outputs": [
        {
          "output_type": "stream",
          "text": [
            "Epoch [10/25]\n",
            "Epoch [20/25]\n",
            "-----\n",
            "Running time = 203.62\n"
          ],
          "name": "stdout"
        }
      ]
    },
    {
      "cell_type": "markdown",
      "metadata": {
        "id": "yAf8yvBsKcaT"
      },
      "source": [
        "---\r\n",
        "### (6) Model Evaluation"
      ]
    },
    {
      "cell_type": "code",
      "metadata": {
        "colab": {
          "base_uri": "https://localhost:8080/"
        },
        "id": "ruyI_KcQIJV2",
        "outputId": "a43022c1-d44c-4ec8-f5c7-7704bc7e59d5"
      },
      "source": [
        "print(len(train_state['train_acc']))\r\n",
        "print(len(train_state['val_acc']))"
      ],
      "execution_count": null,
      "outputs": [
        {
          "output_type": "stream",
          "text": [
            "25\n",
            "25\n"
          ],
          "name": "stdout"
        }
      ]
    },
    {
      "cell_type": "code",
      "metadata": {
        "colab": {
          "base_uri": "https://localhost:8080/",
          "height": 579
        },
        "id": "NclGKpPM5nn7",
        "outputId": "928e7c4f-49da-4f6a-c373-6ab80115f280"
      },
      "source": [
        "#### Plotting \r\n",
        "\r\n",
        "import numpy as np\r\n",
        "import matplotlib.pyplot as plt\r\n",
        "\r\n",
        "plt.figure(figsize = (11, 9))\r\n",
        "train_accu, val_accu = train_state['train_acc'][:25], train_state['val_acc'][:25]\r\n",
        "\r\n",
        "# record records the (training accuracy, test accuracy) in each step\r\n",
        "plt.plot(list(range(1,26)), train_accu, color='lightblue', label= \"Training data\") \r\n",
        "plt.plot(list(range(1,26)) ,  train_accu, 'D', color='royalblue')  \r\n",
        "plt.plot(list(range(1,26)), val_accu, color='darkorange', label= \"Validation data\")\r\n",
        "plt.plot(list(range(1,26)) ,  val_accu, 's', color='orangered')  \r\n",
        "\r\n",
        "plt.xticks(range(0, 26, 1))\r\n",
        "plt.yticks(range(0, 101, 5))\r\n",
        "plt.axis([0, 26, 0, 100]) # Adjust the scope\r\n",
        "\r\n",
        "plt.xlabel('Steps', fontsize = 'xx-large') # Change font size\r\n",
        "plt.ylabel('Accuracy (%)')\r\n",
        "plt.ylabel('Accuracy (%)', fontsize = 'xx-large') # Change font size\r\n",
        "plt.title('MLP: Best Model', fontname='DejaVu Sans', fontsize = 'xx-large') # Change font size\r\n",
        "\r\n",
        "plt.grid() # Simply add grid by default\r\n",
        "plt.legend(fontsize = 'xx-large',  loc= 'lower center')\r\n",
        "plt.show()"
      ],
      "execution_count": null,
      "outputs": [
        {
          "output_type": "display_data",
          "data": {
            "image/png": "[encoded data removed]",
            "text/plain": [
              "<Figure size 792x648 with 1 Axes>"
            ]
          },
          "metadata": {
            "tags": [],
            "needs_background": "light"
          }
        }
      ]
    },
    {
      "cell_type": "code",
      "metadata": {
        "id": "4uqhaC4nI2DM"
      },
      "source": [
        "# compute the loss & accuracy on the test set using the best available model\r\n",
        "\r\n",
        "classifier.load_state_dict(torch.load(train_state['model_filename']))\r\n",
        "\r\n",
        "classifier = classifier.to(args.device)\r\n",
        "dataset.class_weights = dataset.class_weights.to(args.device)\r\n",
        "loss_func = nn.CrossEntropyLoss(dataset.class_weights)\r\n",
        "\r\n",
        "dataset.set_split('test')\r\n",
        "batch_generator = generate_batches(dataset, \r\n",
        "                                   batch_size=args.batch_size, \r\n",
        "                                   device=args.device)\r\n",
        "running_loss = 0.\r\n",
        "running_acc = 0.\r\n",
        "classifier.eval()\r\n",
        "\r\n",
        "for batch_index, batch_dict in enumerate(batch_generator):\r\n",
        "    # compute the output\r\n",
        "    y_pred =  classifier(batch_dict['x_surname'])\r\n",
        "    \r\n",
        "    # compute the loss\r\n",
        "    loss = loss_func(y_pred, batch_dict['y_nationality'])\r\n",
        "    loss_t = loss.item()\r\n",
        "    running_loss += (loss_t - running_loss) / (batch_index + 1)\r\n",
        "\r\n",
        "    # compute the accuracy\r\n",
        "    acc_t = compute_accuracy(y_pred, batch_dict['y_nationality'])\r\n",
        "    running_acc += (acc_t - running_acc) / (batch_index + 1)\r\n",
        "\r\n",
        "train_state['test_loss'] = running_loss\r\n",
        "train_state['test_acc'] = running_acc"
      ],
      "execution_count": null,
      "outputs": []
    },
    {
      "cell_type": "code",
      "metadata": {
        "colab": {
          "base_uri": "https://localhost:8080/"
        },
        "id": "HgTB5K38Iqk7",
        "outputId": "1954816c-eea9-4abd-e4e0-1f2981a02e98"
      },
      "source": [
        "print(\"Final Training   Accuracy: {:7.4f}\".format(train_state['train_acc'][24]))\r\n",
        "print(\"Final Validation Accuracy: {:7.4f}\".format(train_state['val_acc'][24]))\r\n",
        "print(\"Final Test       Accuracy: {:7.4f}\".format(train_state['test_acc']))"
      ],
      "execution_count": null,
      "outputs": [
        {
          "output_type": "stream",
          "text": [
            "Final Training   Accuracy: 93.6328\n",
            "Final Validation Accuracy: 67.2561\n",
            "Final Test       Accuracy: 66.8675\n"
          ],
          "name": "stdout"
        }
      ]
    },
    {
      "cell_type": "code",
      "metadata": {
        "id": "rkOpSeJy9JdG",
        "colab": {
          "base_uri": "https://localhost:8080/"
        },
        "outputId": "d92a3c58-db2e-46b3-cdb3-2c32c2eb90ef"
      },
      "source": [
        "print(\"Valid Loss: {}\".format(train_state['val_loss'][24]))\r\n",
        "print(\"Valid Accuracy: {}\".format(train_state['val_acc'][24]))"
      ],
      "execution_count": null,
      "outputs": [
        {
          "output_type": "stream",
          "text": [
            "Valid Loss: 1.708380072615071\n",
            "Valid Accuracy: 67.25609756097576\n"
          ],
          "name": "stdout"
        }
      ]
    },
    {
      "cell_type": "code",
      "metadata": {
        "id": "-eVNWvNHItZ9",
        "colab": {
          "base_uri": "https://localhost:8080/"
        },
        "outputId": "d1f17987-2133-48c8-de7b-48b891971438"
      },
      "source": [
        "print(\"Test Loss: {}\".format(train_state['test_loss']))\r\n",
        "print(\"Test Accuracy: {}\".format(train_state['test_acc']))"
      ],
      "execution_count": null,
      "outputs": [
        {
          "output_type": "stream",
          "text": [
            "Test Loss: 1.7799669415330075\n",
            "Test Accuracy: 66.86746987951794\n"
          ],
          "name": "stdout"
        }
      ]
    },
    {
      "cell_type": "markdown",
      "metadata": {
        "id": "JgsiblvU6pA4"
      },
      "source": [
        "---\r\n",
        "### (7) Inference"
      ]
    },
    {
      "cell_type": "code",
      "metadata": {
        "id": "iY6lxbwrzZZ7"
      },
      "source": [
        "def predict_nationality(surname, classifier, vectorizer):\r\n",
        "    \"\"\"Predict the nationality from a new surname\r\n",
        "    \r\n",
        "    Args:\r\n",
        "        surname (str): the surname to classifier\r\n",
        "        classifier (SurnameClassifer): an instance of the classifier\r\n",
        "        vectorizer (SurnameVectorizer): the corresponding vectorizer\r\n",
        "    Returns:\r\n",
        "        a dictionary with the most likely nationality and its probability\r\n",
        "    \"\"\"\r\n",
        "    vectorized_surname = vectorizer.vectorize(surname)\r\n",
        "    vectorized_surname = torch.tensor(vectorized_surname).unsqueeze(0)\r\n",
        "    result = classifier(vectorized_surname, apply_softmax=True)\r\n",
        "\r\n",
        "    probability_values, indices = result.max(dim=1)\r\n",
        "    index = indices.item()\r\n",
        "\r\n",
        "    predicted_nationality = vectorizer.nationality_vocab.lookup_index(index)\r\n",
        "    probability_value = probability_values.item()\r\n",
        "\r\n",
        "    return {'nationality': predicted_nationality, 'probability': probability_value}"
      ],
      "execution_count": null,
      "outputs": []
    },
    {
      "cell_type": "code",
      "metadata": {
        "id": "G2wfS6PFzZd7"
      },
      "source": [
        "new_surname = input(\"Enter a surname to classify: \")\r\n",
        "classifier = classifier.cpu()\r\n",
        "prediction = predict_nationality(new_surname, classifier, vectorizer)\r\n",
        "print(\"{} -> {} (p={:0.2f})\".format(new_surname,\r\n",
        "                                    prediction['nationality'],\r\n",
        "                                    prediction['probability']))"
      ],
      "execution_count": null,
      "outputs": []
    },
    {
      "cell_type": "code",
      "metadata": {
        "id": "CgYxsxBFzZhd"
      },
      "source": [
        "def predict_topk_nationality(surname, classifier, vectorizer, k=5):\r\n",
        "    \"\"\"Predict the top K nationalities from a new surname\r\n",
        "    \r\n",
        "    Args:\r\n",
        "        surname (str): the surname to classifier\r\n",
        "        classifier (SurnameClassifer): an instance of the classifier\r\n",
        "        vectorizer (SurnameVectorizer): the corresponding vectorizer\r\n",
        "        k (int): the number of top nationalities to return\r\n",
        "    Returns:\r\n",
        "        list of dictionaries, each dictionary is a nationality and a probability\r\n",
        "    \"\"\"\r\n",
        "    \r\n",
        "    vectorized_surname = vectorizer.vectorize(surname)\r\n",
        "    vectorized_surname = torch.tensor(vectorized_surname).unsqueeze(dim=0)\r\n",
        "    prediction_vector = classifier(vectorized_surname, apply_softmax=True)\r\n",
        "    probability_values, indices = torch.topk(prediction_vector, k=k)\r\n",
        "    \r\n",
        "    # returned size is 1,k\r\n",
        "    probability_values = probability_values[0].detach().numpy()\r\n",
        "    indices = indices[0].detach().numpy()\r\n",
        "    \r\n",
        "    results = []\r\n",
        "    for kth_index in range(k):\r\n",
        "        nationality = vectorizer.nationality_vocab.lookup_index(indices[kth_index])\r\n",
        "        probability_value = probability_values[kth_index]\r\n",
        "        results.append({'nationality': nationality, \r\n",
        "                        'probability': probability_value})\r\n",
        "    return results\r\n",
        "\r\n",
        "new_surname = input(\"Enter a surname to classify: \")\r\n",
        "\r\n",
        "k = int(input(\"How many of the top predictions to see? \"))\r\n",
        "if k > len(vectorizer.nationality_vocab):\r\n",
        "    print(\"Sorry! That's more than the # of nationalities we have.. defaulting you to max size :)\")\r\n",
        "    k = len(vectorizer.nationality_vocab)\r\n",
        "    \r\n",
        "predictions = predict_topk_nationality(new_surname, classifier, vectorizer, k=k)\r\n",
        "\r\n",
        "print(\"Top {} predictions:\".format(k))\r\n",
        "print(\"===================\")\r\n",
        "for prediction in predictions:\r\n",
        "    print(\"{} -> {} (p={:0.2f})\".format(new_surname,\r\n",
        "                                        prediction['nationality'],\r\n",
        "                                        prediction['probability']))"
      ],
      "execution_count": null,
      "outputs": []
    },
    {
      "cell_type": "code",
      "metadata": {
        "id": "uVSvEeJCzZnW"
      },
      "source": [
        ""
      ],
      "execution_count": null,
      "outputs": []
    }
  ]
}